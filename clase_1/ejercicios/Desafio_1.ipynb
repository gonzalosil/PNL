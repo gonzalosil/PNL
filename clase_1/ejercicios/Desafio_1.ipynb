{
 "cells": [
  {
   "cell_type": "code",
   "metadata": {
    "ExecuteTime": {
     "end_time": "2025-03-18T20:26:36.348532Z",
     "start_time": "2025-03-18T20:26:35.540295Z"
    }
   },
   "source": [
    "%pip install numpy scikit-learn"
   ],
   "outputs": [
    {
     "name": "stdout",
     "output_type": "stream",
     "text": [
      "Requirement already satisfied: numpy in /opt/anaconda3/envs/IIA/lib/python3.10/site-packages (1.26.4)\r\n",
      "Requirement already satisfied: scikit-learn in /opt/anaconda3/envs/IIA/lib/python3.10/site-packages (1.5.1)\r\n",
      "Requirement already satisfied: scipy>=1.6.0 in /opt/anaconda3/envs/IIA/lib/python3.10/site-packages (from scikit-learn) (1.13.1)\r\n",
      "Requirement already satisfied: joblib>=1.2.0 in /opt/anaconda3/envs/IIA/lib/python3.10/site-packages (from scikit-learn) (1.4.2)\r\n",
      "Requirement already satisfied: threadpoolctl>=3.1.0 in /opt/anaconda3/envs/IIA/lib/python3.10/site-packages (from scikit-learn) (3.5.0)\r\n",
      "Note: you may need to restart the kernel to use updated packages.\n"
     ]
    }
   ],
   "execution_count": 1
  },
  {
   "cell_type": "markdown",
   "metadata": {
    "id": "zq6j8LsYq1Dr"
   },
   "source": [
    "### Vectorización de texto y modelo de clasificación Naïve Bayes con el dataset 20 newsgroups"
   ]
  },
  {
   "cell_type": "code",
   "metadata": {
    "id": "l7cXR6CI30ry",
    "ExecuteTime": {
     "end_time": "2025-03-18T20:26:39.680838Z",
     "start_time": "2025-03-18T20:26:36.361377Z"
    }
   },
   "source": [
    "from sklearn.feature_extraction.text import CountVectorizer, TfidfVectorizer\n",
    "from sklearn.metrics.pairwise import cosine_similarity\n",
    "from sklearn.naive_bayes import MultinomialNB, ComplementNB\n",
    "from sklearn.metrics import f1_score\n",
    "\n",
    "# 20newsgroups por ser un dataset clásico de NLP ya viene incluido y formateado\n",
    "# en sklearn\n",
    "from sklearn.datasets import fetch_20newsgroups\n",
    "import numpy as np"
   ],
   "outputs": [],
   "execution_count": 2
  },
  {
   "cell_type": "markdown",
   "metadata": {
    "id": "yD-pVDWV_rQc"
   },
   "source": [
    "## Carga de datos"
   ]
  },
  {
   "cell_type": "code",
   "metadata": {
    "id": "Ech9qJaUo9vK",
    "ExecuteTime": {
     "end_time": "2025-03-18T20:26:52.886466Z",
     "start_time": "2025-03-18T20:26:39.838177Z"
    }
   },
   "source": [
    "# cargamos los datos (ya separados de forma predeterminada en train y test)\n",
    "newsgroups_train = fetch_20newsgroups(subset='train', remove=('headers', 'footers', 'quotes'))\n",
    "newsgroups_test = fetch_20newsgroups(subset='test', remove=('headers', 'footers', 'quotes'))"
   ],
   "outputs": [],
   "execution_count": 3
  },
  {
   "cell_type": "markdown",
   "metadata": {
    "id": "UxjSI7su_uWI"
   },
   "source": [
    "## Vectorización"
   ]
  },
  {
   "cell_type": "code",
   "metadata": {
    "id": "-94VP0QYCzDn",
    "ExecuteTime": {
     "end_time": "2025-03-18T20:26:52.903174Z",
     "start_time": "2025-03-18T20:26:52.901109Z"
    }
   },
   "source": [
    "# instanciamos un vectorizador\n",
    "# ver diferentes parámetros de instanciación en la documentación de sklearn https://scikit-learn.org/stable/modules/generated/sklearn.feature_extraction.text.TfidfVectorizer.html\n",
    "tfidfvect = TfidfVectorizer()"
   ],
   "outputs": [],
   "execution_count": 4
  },
  {
   "cell_type": "code",
   "metadata": {
    "colab": {
     "base_uri": "https://localhost:8080/",
     "height": 104
    },
    "id": "ftPlyanuak8n",
    "outputId": "45a94d0e-49e7-4f7c-c806-7d5b66779dd0",
    "ExecuteTime": {
     "end_time": "2025-03-18T20:26:53.027444Z",
     "start_time": "2025-03-18T20:26:53.024652Z"
    }
   },
   "source": [
    "# en el atributo `data` accedemos al texto\n",
    "print(newsgroups_train.data[0])"
   ],
   "outputs": [
    {
     "name": "stdout",
     "output_type": "stream",
     "text": [
      "I was wondering if anyone out there could enlighten me on this car I saw\n",
      "the other day. It was a 2-door sports car, looked to be from the late 60s/\n",
      "early 70s. It was called a Bricklin. The doors were really small. In addition,\n",
      "the front bumper was separate from the rest of the body. This is \n",
      "all I know. If anyone can tellme a model name, engine specs, years\n",
      "of production, where this car is made, history, or whatever info you\n",
      "have on this funky looking car, please e-mail.\n"
     ]
    }
   ],
   "execution_count": 5
  },
  {
   "cell_type": "code",
   "metadata": {
    "id": "1zxcXV6aC_oL",
    "ExecuteTime": {
     "end_time": "2025-03-18T20:26:53.963949Z",
     "start_time": "2025-03-18T20:26:53.172654Z"
    }
   },
   "source": [
    "# con la interfaz habitual de sklearn podemos fitear el vectorizador\n",
    "# (obtener el vocabulario y calcular el vector IDF)\n",
    "# y transformar directamente los datos\n",
    "X_train = tfidfvect.fit_transform(newsgroups_train.data)\n",
    "# `X_train` la podemos denominar como la matriz documento-término"
   ],
   "outputs": [],
   "execution_count": 6
  },
  {
   "cell_type": "code",
   "metadata": {
    "colab": {
     "base_uri": "https://localhost:8080/"
    },
    "id": "4Sv7TXbda41-",
    "outputId": "dcca5de6-dac1-4d68-d284-ce7be2ed9e2f",
    "ExecuteTime": {
     "end_time": "2025-03-18T20:26:54.090879Z",
     "start_time": "2025-03-18T20:26:54.087874Z"
    }
   },
   "source": [
    "# recordar que las vectorizaciones por conteos son esparsas\n",
    "# por ello sklearn convenientemente devuelve los vectores de documentos\n",
    "# como matrices esparsas\n",
    "print(type(X_train))\n",
    "print(f'shape: {X_train.shape}')\n",
    "print(f'Cantidad de documentos: {X_train.shape[0]}')\n",
    "print(f'Tamaño del vocabulario (dimensionalidad de los vectores): {X_train.shape[1]}')"
   ],
   "outputs": [
    {
     "name": "stdout",
     "output_type": "stream",
     "text": [
      "<class 'scipy.sparse._csr.csr_matrix'>\n",
      "shape: (11314, 101631)\n",
      "Cantidad de documentos: 11314\n",
      "Tamaño del vocabulario (dimensionalidad de los vectores): 101631\n"
     ]
    }
   ],
   "execution_count": 7
  },
  {
   "cell_type": "code",
   "metadata": {
    "colab": {
     "base_uri": "https://localhost:8080/"
    },
    "id": "dgydNTZ2pAgR",
    "outputId": "95111464-e40c-4b57-d154-ede153739a82",
    "ExecuteTime": {
     "end_time": "2025-03-18T20:26:54.222363Z",
     "start_time": "2025-03-18T20:26:54.214568Z"
    }
   },
   "source": [
    "# una vez fiteado el vectorizador, podemos acceder a atributos como el vocabulario\n",
    "# aprendido. Es un diccionario que va de términos a índices.\n",
    "# El índice es la posición en el vector de documento.\n",
    "tfidfvect.vocabulary_['car']"
   ],
   "outputs": [
    {
     "data": {
      "text/plain": [
       "25775"
      ]
     },
     "execution_count": 8,
     "metadata": {},
     "output_type": "execute_result"
    }
   ],
   "execution_count": 8
  },
  {
   "cell_type": "code",
   "metadata": {
    "id": "xnTSZuvyrTcP",
    "ExecuteTime": {
     "end_time": "2025-03-18T20:26:54.351428Z",
     "start_time": "2025-03-18T20:26:54.341795Z"
    }
   },
   "source": [
    "# es muy útil tener el diccionario opuesto que va de índices a términos\n",
    "idx2word = {v: k for k,v in tfidfvect.vocabulary_.items()}"
   ],
   "outputs": [],
   "execution_count": 9
  },
  {
   "cell_type": "code",
   "metadata": {
    "colab": {
     "base_uri": "https://localhost:8080/"
    },
    "id": "swa-AgWrMSHM",
    "outputId": "93d09f31-4c42-4215-e750-a13c83ecf96a",
    "ExecuteTime": {
     "end_time": "2025-03-18T20:26:54.486429Z",
     "start_time": "2025-03-18T20:26:54.483272Z"
    }
   },
   "source": [
    "# en `y_train` guardamos los targets que son enteros\n",
    "y_train = newsgroups_train.target\n",
    "y_train[:10]"
   ],
   "outputs": [
    {
     "data": {
      "text/plain": [
       "array([ 7,  4,  4,  1, 14, 16, 13,  3,  2,  4])"
      ]
     },
     "execution_count": 10,
     "metadata": {},
     "output_type": "execute_result"
    }
   ],
   "execution_count": 10
  },
  {
   "cell_type": "code",
   "metadata": {
    "colab": {
     "base_uri": "https://localhost:8080/"
    },
    "id": "je5kxvQMDLvf",
    "outputId": "59799046-9799-406f-c4be-81c5765de58d",
    "ExecuteTime": {
     "end_time": "2025-03-18T20:26:54.757430Z",
     "start_time": "2025-03-18T20:26:54.752069Z"
    }
   },
   "source": [
    "# hay 20 clases correspondientes a los 20 grupos de noticias\n",
    "print(f'clases {np.unique(newsgroups_test.target)}')\n",
    "newsgroups_test.target_names"
   ],
   "outputs": [
    {
     "name": "stdout",
     "output_type": "stream",
     "text": [
      "clases [ 0  1  2  3  4  5  6  7  8  9 10 11 12 13 14 15 16 17 18 19]\n"
     ]
    },
    {
     "data": {
      "text/plain": [
       "['alt.atheism',\n",
       " 'comp.graphics',\n",
       " 'comp.os.ms-windows.misc',\n",
       " 'comp.sys.ibm.pc.hardware',\n",
       " 'comp.sys.mac.hardware',\n",
       " 'comp.windows.x',\n",
       " 'misc.forsale',\n",
       " 'rec.autos',\n",
       " 'rec.motorcycles',\n",
       " 'rec.sport.baseball',\n",
       " 'rec.sport.hockey',\n",
       " 'sci.crypt',\n",
       " 'sci.electronics',\n",
       " 'sci.med',\n",
       " 'sci.space',\n",
       " 'soc.religion.christian',\n",
       " 'talk.politics.guns',\n",
       " 'talk.politics.mideast',\n",
       " 'talk.politics.misc',\n",
       " 'talk.religion.misc']"
      ]
     },
     "execution_count": 11,
     "metadata": {},
     "output_type": "execute_result"
    }
   ],
   "execution_count": 11
  },
  {
   "cell_type": "markdown",
   "metadata": {
    "id": "SXCICFSd_y90"
   },
   "source": [
    "## Similaridad de documentos"
   ]
  },
  {
   "cell_type": "code",
   "metadata": {
    "colab": {
     "base_uri": "https://localhost:8080/"
    },
    "id": "_pki_olShnyE",
    "outputId": "b2bd8485-40c7-4923-c8a9-4ad6b735576e",
    "ExecuteTime": {
     "end_time": "2025-03-18T20:26:54.769968Z",
     "start_time": "2025-03-18T20:26:54.767261Z"
    }
   },
   "source": [
    "# Veamos similaridad de documentos. Tomemos algún documento\n",
    "idx = 4811\n",
    "print(newsgroups_train.data[idx])"
   ],
   "outputs": [
    {
     "name": "stdout",
     "output_type": "stream",
     "text": [
      "THE WHITE HOUSE\n",
      "\n",
      "                  Office of the Press Secretary\n",
      "                   (Pittsburgh, Pennslyvania)\n",
      "______________________________________________________________\n",
      "For Immediate Release                         April 17, 1993     \n",
      "\n",
      "             \n",
      "                  RADIO ADDRESS TO THE NATION \n",
      "                        BY THE PRESIDENT\n",
      "             \n",
      "                Pittsburgh International Airport\n",
      "                    Pittsburgh, Pennsylvania\n",
      "             \n",
      "             \n",
      "10:06 A.M. EDT\n",
      "             \n",
      "             \n",
      "             THE PRESIDENT:  Good morning.  My voice is coming to\n",
      "you this morning through the facilities of the oldest radio\n",
      "station in America, KDKA in Pittsburgh.  I'm visiting the city to\n",
      "meet personally with citizens here to discuss my plans for jobs,\n",
      "health care and the economy.  But I wanted first to do my weekly\n",
      "broadcast with the American people. \n",
      "             \n",
      "             I'm told this station first broadcast in 1920 when\n",
      "it reported that year's presidential elections.  Over the past\n",
      "seven decades presidents have found ways to keep in touch with\n",
      "the people, from whistle-stop tours to fire-side chats to the bus\n",
      "tour that I adopted, along with Vice President Gore, in last\n",
      "year's campaign.\n",
      "             \n",
      "             Every Saturday morning I take this time to talk with\n",
      "you, my fellow Americans, about the problems on your minds and\n",
      "what I'm doing to try and solve them.  It's my way of reporting\n",
      "to you and of giving you a way to hold me accountable.\n",
      "             \n",
      "             You sent me to Washington to get our government and\n",
      "economy moving after years of paralysis and policy and a bad\n",
      "experiment with trickle-down economics.  You know how important\n",
      "it is for us to make bold, comprehensive changes in the way we do\n",
      "business.  \n",
      "             \n",
      "             We live in a competitive global economy.  Nations\n",
      "rise and fall on the skills of their workers, the competitiveness\n",
      "of their companies, the imagination of their industries, and the\n",
      "cooperative experience and spirit that exists between business,\n",
      "labor and government.  Although many of the economies of the\n",
      "industrialized world are now suffering from slow growth, they've\n",
      "made many of the smart investments and the tough choices which\n",
      "our government has for too long ignored.  That's why many of them\n",
      "have been moving ahead and too many of our people have been\n",
      "falling behind.\n",
      "             \n",
      "             We have an economy today that even when it grows is\n",
      "not producing new jobs.  We've increased the debt of our nation\n",
      "by four times over the last 12 years, and we don't have much to\n",
      "show for it.  We know that wages of most working people have\n",
      "stopped rising, that most people are working longer work weeks\n",
      "and that too many families can no longer afford the escalating\n",
      "cost of health care.\n",
      "             \n",
      "             But we also know that, given the right tools, the\n",
      "right incentives and the right encouragement, our workers and\n",
      "businesses can make the kinds of products and profits our economy\n",
      "needs to expand opportunity and to make our communities better\n",
      "places to live.\n",
      "             \n",
      "             In many critical products today Americans are the\n",
      "low cost, high quality producers.  Our task is to make sure that\n",
      "we create more of those kinds of jobs.\n",
      "             \n",
      "             Just two months ago I gave Congress my plan for\n",
      "long-term jobs and economic growth.  It changes the old\n",
      "priorities in Washington and puts our emphasis where it needs to\n",
      "be -- on people's real needs, on increasing investments and jobs\n",
      "and education, on cutting the federal deficit, on stopping the\n",
      "waste which pays no dividends, and redirecting our precious\n",
      "resources toward investment that creates jobs now and lays the\n",
      "groundwork for robust economic growth in the future.\n",
      "             \n",
      "             These new directions passed the Congress in record\n",
      "time and created a new sense of hope and opportunity in our\n",
      "country.  Then the jobs plan I presented to Congress, which would\n",
      "create hundreds of thousands of jobs, most of them in the private\n",
      "sector in 1993 and 1994, passed the House of Representatives.  It\n",
      "now has the support of a majority of the United States Senate. \n",
      "But it's been held up by a filibuster of a minority in the\n",
      "Senate, just 43 senators.  They blocked a vote that they know\n",
      "would result in the passage of our bill and the creation of jobs.\n",
      "             \n",
      "             The issue isn't politics; the issue is people. \n",
      "Millions of Americans are waiting for this legislation and\n",
      "counting on it, counting on us in Washington.  But the jobs bill\n",
      "has been grounded by gridlock.  \n",
      "             \n",
      "             I know the American people are tired of business as\n",
      "usual and politics as usual.  I know they don't want us to spin\n",
      "or wheels.  They want the recovery to get moving.  So I have\n",
      "taken a first step to break this gridlock and gone the extra\n",
      "mile.  Yesterday I offered to cut the size of this plan by 25\n",
      "percent -- from $16 billion to $12 billion.  \n",
      "             \n",
      "             It's not what I'd hoped for.  With 16 million\n",
      "Americans looking for full-time work, I simply can't let the bill\n",
      "languish when I know that even a compromise bill will mean\n",
      "hundreds of thousands of jobs for our people.  The mandate is to\n",
      "act to achieve change and move the country forward.  By taking\n",
      "this initiative in the face of an unrelenting Senate talkathon, I\n",
      "think we can respond to your mandate and achieve a significant\n",
      "portion of our original goals.\n",
      "             \n",
      "             First, we want to keep the programs as much as\n",
      "possible that are needed to generate jobs and meet human needs,\n",
      "including highway and road construction, summer jobs for young\n",
      "people, immunization for children, construction of waste water\n",
      "sites, and aid to small businesses.  We also want to keep funding\n",
      "for extended unemployment compensation benefits, for people who\n",
      "have been unemployed for a long time because the economy isn't\n",
      "creating jobs.\n",
      "             \n",
      "             Second, I've recommended that all the other programs\n",
      "in the bill be cut across-the-board by a little more than 40\n",
      "percent.\n",
      "             \n",
      "             And third, I've recommended a new element in this\n",
      "program to help us immediately start our attempt to fight against\n",
      "crime by providing $200 million for cities and towns to rehire\n",
      "police officers who lost their jobs during the recession and put\n",
      "them back to work protecting our people.  I'm also going to fight\n",
      "for a tough crime bill because the people of this country need it\n",
      "and deserve it.\n",
      "             \n",
      "             Now, the people who are filibustering this bill --\n",
      "the Republican senators -- say they won't vote for it because it\n",
      "increases deficit spending, because there's extra spending this\n",
      "year that hasn't already been approved.  That sounds reasonable,\n",
      "doesn't it?  Here's what they don't say.  This program is more\n",
      "than paid for by budget cuts over my five-year budget, and this\n",
      "budget is well within the spending limits already approved by the\n",
      "Congress this year.\n",
      "             \n",
      "             It's amazing to me that many of these same senators\n",
      "who are filibustering the bill voted during the previous\n",
      "administration for billions of dollars of the same kind of\n",
      "emergency spending, and much of it was not designed to put the\n",
      "American people to work.  \n",
      "             \n",
      "             This is not about deficit spending.  We have offered\n",
      "a plan to cut the deficit.  This is about where your priorities\n",
      "are -- on people or on politics.  \n",
      "             \n",
      "             Keep in mind that our jobs bill is paid for dollar\n",
      "for dollar.  It is paid for by budget cuts.  And it's the\n",
      "soundest investment we can now make for ourselves and our\n",
      "children.  I urge all Americans to take another look at this jobs\n",
      "and investment program; to consider again the benefits for all of\n",
      "us when we've helped make more American partners working to\n",
      "ensure the future of our nation and the strength of our economy.\n",
      "             \n",
      "             You know, if every American who wanted a job had\n",
      "one, we wouldn't have a lot of the other problems we have in this\n",
      "country today.  This bill is not a miracle, it's a modest first\n",
      "step to try to set off a job creation explosion in this country\n",
      "again.  But it's a step we ought to take.  And it is fully paid\n",
      "for over the life of our budget.\n",
      "             \n",
      "             Tell your lawmakers what you think.  Tell them how\n",
      "important the bill is.  If it passes, we'll all be winners.\n",
      "             \n",
      "             Good morning, and thank you for listening.\n"
     ]
    }
   ],
   "execution_count": 12
  },
  {
   "cell_type": "code",
   "metadata": {
    "id": "Ssa9bqJ-hA_v",
    "ExecuteTime": {
     "end_time": "2025-03-18T20:26:54.917292Z",
     "start_time": "2025-03-18T20:26:54.903244Z"
    }
   },
   "source": [
    "# midamos la similaridad coseno con todos los documentos de train\n",
    "cossim = cosine_similarity(X_train[idx], X_train)[0]"
   ],
   "outputs": [],
   "execution_count": 13
  },
  {
   "cell_type": "code",
   "metadata": {
    "colab": {
     "base_uri": "https://localhost:8080/"
    },
    "id": "p_mDA7p3AzcQ",
    "outputId": "747a3923-4b1c-4e2b-921d-4ebf2b271b00",
    "ExecuteTime": {
     "end_time": "2025-03-18T20:26:55.054929Z",
     "start_time": "2025-03-18T20:26:55.049068Z"
    }
   },
   "source": [
    "# podemos ver los valores de similaridad ordenados de mayor a menos\n",
    "np.sort(cossim)[::-1]"
   ],
   "outputs": [
    {
     "data": {
      "text/plain": [
       "array([1.        , 0.70930477, 0.67474953, ..., 0.        , 0.        ,\n",
       "       0.        ])"
      ]
     },
     "execution_count": 14,
     "metadata": {},
     "output_type": "execute_result"
    }
   ],
   "execution_count": 14
  },
  {
   "cell_type": "code",
   "metadata": {
    "colab": {
     "base_uri": "https://localhost:8080/"
    },
    "id": "0OIhDA1jAryX",
    "outputId": "04ddf3ca-0741-42d7-8bbb-00bb395f7834",
    "ExecuteTime": {
     "end_time": "2025-03-18T20:26:55.190926Z",
     "start_time": "2025-03-18T20:26:55.187157Z"
    }
   },
   "source": [
    "# y a qué documentos corresponden\n",
    "np.argsort(cossim)[::-1]"
   ],
   "outputs": [
    {
     "data": {
      "text/plain": [
       "array([ 4811,  6635,  4253, ...,  1534, 10055,  4750])"
      ]
     },
     "execution_count": 15,
     "metadata": {},
     "output_type": "execute_result"
    }
   ],
   "execution_count": 15
  },
  {
   "cell_type": "code",
   "metadata": {
    "id": "hP7qLS4ZBLps",
    "ExecuteTime": {
     "end_time": "2025-03-18T20:26:55.323853Z",
     "start_time": "2025-03-18T20:26:55.320283Z"
    }
   },
   "source": [
    "# los 5 documentos más similares:\n",
    "mostsim = np.argsort(cossim)[::-1][1:6]"
   ],
   "outputs": [],
   "execution_count": 16
  },
  {
   "cell_type": "code",
   "metadata": {
    "colab": {
     "base_uri": "https://localhost:8080/",
     "height": 35
    },
    "id": "QdJLHPJACvaj",
    "outputId": "926186cf-7d4c-4bd3-927b-ad00bf7f24f9",
    "ExecuteTime": {
     "end_time": "2025-03-18T20:26:55.454917Z",
     "start_time": "2025-03-18T20:26:55.451935Z"
    }
   },
   "source": [
    "# el documento original pertenece a la clase:\n",
    "newsgroups_train.target_names[y_train[idx]]"
   ],
   "outputs": [
    {
     "data": {
      "text/plain": [
       "'talk.politics.misc'"
      ]
     },
     "execution_count": 17,
     "metadata": {},
     "output_type": "execute_result"
    }
   ],
   "execution_count": 17
  },
  {
   "cell_type": "code",
   "metadata": {
    "colab": {
     "base_uri": "https://localhost:8080/"
    },
    "id": "RWy_73epCbFG",
    "outputId": "daf534e5-b2a8-43d4-d05a-9c52b816cf69",
    "ExecuteTime": {
     "end_time": "2025-03-18T20:26:55.727444Z",
     "start_time": "2025-03-18T20:26:55.724448Z"
    }
   },
   "source": [
    "# y los 5 más similares son de las clases:\n",
    "for i in mostsim:\n",
    "  print(newsgroups_train.target_names[y_train[i]])"
   ],
   "outputs": [
    {
     "name": "stdout",
     "output_type": "stream",
     "text": [
      "talk.politics.misc\n",
      "talk.politics.misc\n",
      "talk.politics.misc\n",
      "talk.politics.misc\n",
      "talk.politics.misc\n"
     ]
    }
   ],
   "execution_count": 18
  },
  {
   "cell_type": "markdown",
   "metadata": {
    "id": "zRoNnKwhBqzq"
   },
   "source": [
    "### Modelo de clasificación Naïve Bayes"
   ]
  },
  {
   "cell_type": "code",
   "metadata": {
    "colab": {
     "base_uri": "https://localhost:8080/",
     "height": 74
    },
    "id": "TPM0thDaLk0R",
    "outputId": "bc7fdc3e-d912-4e0c-9d9e-33efc97b46fc",
    "ExecuteTime": {
     "end_time": "2025-03-18T20:26:55.796996Z",
     "start_time": "2025-03-18T20:26:55.735258Z"
    }
   },
   "source": [
    "# es muy fácil instanciar un modelo de clasificación Naïve Bayes y entrenarlo con sklearn\n",
    "clf = MultinomialNB()\n",
    "clf.fit(X_train, y_train)"
   ],
   "outputs": [
    {
     "data": {
      "text/plain": [
       "MultinomialNB()"
      ],
      "text/html": [
       "<style>#sk-container-id-1 {\n",
       "  /* Definition of color scheme common for light and dark mode */\n",
       "  --sklearn-color-text: black;\n",
       "  --sklearn-color-line: gray;\n",
       "  /* Definition of color scheme for unfitted estimators */\n",
       "  --sklearn-color-unfitted-level-0: #fff5e6;\n",
       "  --sklearn-color-unfitted-level-1: #f6e4d2;\n",
       "  --sklearn-color-unfitted-level-2: #ffe0b3;\n",
       "  --sklearn-color-unfitted-level-3: chocolate;\n",
       "  /* Definition of color scheme for fitted estimators */\n",
       "  --sklearn-color-fitted-level-0: #f0f8ff;\n",
       "  --sklearn-color-fitted-level-1: #d4ebff;\n",
       "  --sklearn-color-fitted-level-2: #b3dbfd;\n",
       "  --sklearn-color-fitted-level-3: cornflowerblue;\n",
       "\n",
       "  /* Specific color for light theme */\n",
       "  --sklearn-color-text-on-default-background: var(--sg-text-color, var(--theme-code-foreground, var(--jp-content-font-color1, black)));\n",
       "  --sklearn-color-background: var(--sg-background-color, var(--theme-background, var(--jp-layout-color0, white)));\n",
       "  --sklearn-color-border-box: var(--sg-text-color, var(--theme-code-foreground, var(--jp-content-font-color1, black)));\n",
       "  --sklearn-color-icon: #696969;\n",
       "\n",
       "  @media (prefers-color-scheme: dark) {\n",
       "    /* Redefinition of color scheme for dark theme */\n",
       "    --sklearn-color-text-on-default-background: var(--sg-text-color, var(--theme-code-foreground, var(--jp-content-font-color1, white)));\n",
       "    --sklearn-color-background: var(--sg-background-color, var(--theme-background, var(--jp-layout-color0, #111)));\n",
       "    --sklearn-color-border-box: var(--sg-text-color, var(--theme-code-foreground, var(--jp-content-font-color1, white)));\n",
       "    --sklearn-color-icon: #878787;\n",
       "  }\n",
       "}\n",
       "\n",
       "#sk-container-id-1 {\n",
       "  color: var(--sklearn-color-text);\n",
       "}\n",
       "\n",
       "#sk-container-id-1 pre {\n",
       "  padding: 0;\n",
       "}\n",
       "\n",
       "#sk-container-id-1 input.sk-hidden--visually {\n",
       "  border: 0;\n",
       "  clip: rect(1px 1px 1px 1px);\n",
       "  clip: rect(1px, 1px, 1px, 1px);\n",
       "  height: 1px;\n",
       "  margin: -1px;\n",
       "  overflow: hidden;\n",
       "  padding: 0;\n",
       "  position: absolute;\n",
       "  width: 1px;\n",
       "}\n",
       "\n",
       "#sk-container-id-1 div.sk-dashed-wrapped {\n",
       "  border: 1px dashed var(--sklearn-color-line);\n",
       "  margin: 0 0.4em 0.5em 0.4em;\n",
       "  box-sizing: border-box;\n",
       "  padding-bottom: 0.4em;\n",
       "  background-color: var(--sklearn-color-background);\n",
       "}\n",
       "\n",
       "#sk-container-id-1 div.sk-container {\n",
       "  /* jupyter's `normalize.less` sets `[hidden] { display: none; }`\n",
       "     but bootstrap.min.css set `[hidden] { display: none !important; }`\n",
       "     so we also need the `!important` here to be able to override the\n",
       "     default hidden behavior on the sphinx rendered scikit-learn.org.\n",
       "     See: https://github.com/scikit-learn/scikit-learn/issues/21755 */\n",
       "  display: inline-block !important;\n",
       "  position: relative;\n",
       "}\n",
       "\n",
       "#sk-container-id-1 div.sk-text-repr-fallback {\n",
       "  display: none;\n",
       "}\n",
       "\n",
       "div.sk-parallel-item,\n",
       "div.sk-serial,\n",
       "div.sk-item {\n",
       "  /* draw centered vertical line to link estimators */\n",
       "  background-image: linear-gradient(var(--sklearn-color-text-on-default-background), var(--sklearn-color-text-on-default-background));\n",
       "  background-size: 2px 100%;\n",
       "  background-repeat: no-repeat;\n",
       "  background-position: center center;\n",
       "}\n",
       "\n",
       "/* Parallel-specific style estimator block */\n",
       "\n",
       "#sk-container-id-1 div.sk-parallel-item::after {\n",
       "  content: \"\";\n",
       "  width: 100%;\n",
       "  border-bottom: 2px solid var(--sklearn-color-text-on-default-background);\n",
       "  flex-grow: 1;\n",
       "}\n",
       "\n",
       "#sk-container-id-1 div.sk-parallel {\n",
       "  display: flex;\n",
       "  align-items: stretch;\n",
       "  justify-content: center;\n",
       "  background-color: var(--sklearn-color-background);\n",
       "  position: relative;\n",
       "}\n",
       "\n",
       "#sk-container-id-1 div.sk-parallel-item {\n",
       "  display: flex;\n",
       "  flex-direction: column;\n",
       "}\n",
       "\n",
       "#sk-container-id-1 div.sk-parallel-item:first-child::after {\n",
       "  align-self: flex-end;\n",
       "  width: 50%;\n",
       "}\n",
       "\n",
       "#sk-container-id-1 div.sk-parallel-item:last-child::after {\n",
       "  align-self: flex-start;\n",
       "  width: 50%;\n",
       "}\n",
       "\n",
       "#sk-container-id-1 div.sk-parallel-item:only-child::after {\n",
       "  width: 0;\n",
       "}\n",
       "\n",
       "/* Serial-specific style estimator block */\n",
       "\n",
       "#sk-container-id-1 div.sk-serial {\n",
       "  display: flex;\n",
       "  flex-direction: column;\n",
       "  align-items: center;\n",
       "  background-color: var(--sklearn-color-background);\n",
       "  padding-right: 1em;\n",
       "  padding-left: 1em;\n",
       "}\n",
       "\n",
       "\n",
       "/* Toggleable style: style used for estimator/Pipeline/ColumnTransformer box that is\n",
       "clickable and can be expanded/collapsed.\n",
       "- Pipeline and ColumnTransformer use this feature and define the default style\n",
       "- Estimators will overwrite some part of the style using the `sk-estimator` class\n",
       "*/\n",
       "\n",
       "/* Pipeline and ColumnTransformer style (default) */\n",
       "\n",
       "#sk-container-id-1 div.sk-toggleable {\n",
       "  /* Default theme specific background. It is overwritten whether we have a\n",
       "  specific estimator or a Pipeline/ColumnTransformer */\n",
       "  background-color: var(--sklearn-color-background);\n",
       "}\n",
       "\n",
       "/* Toggleable label */\n",
       "#sk-container-id-1 label.sk-toggleable__label {\n",
       "  cursor: pointer;\n",
       "  display: block;\n",
       "  width: 100%;\n",
       "  margin-bottom: 0;\n",
       "  padding: 0.5em;\n",
       "  box-sizing: border-box;\n",
       "  text-align: center;\n",
       "}\n",
       "\n",
       "#sk-container-id-1 label.sk-toggleable__label-arrow:before {\n",
       "  /* Arrow on the left of the label */\n",
       "  content: \"▸\";\n",
       "  float: left;\n",
       "  margin-right: 0.25em;\n",
       "  color: var(--sklearn-color-icon);\n",
       "}\n",
       "\n",
       "#sk-container-id-1 label.sk-toggleable__label-arrow:hover:before {\n",
       "  color: var(--sklearn-color-text);\n",
       "}\n",
       "\n",
       "/* Toggleable content - dropdown */\n",
       "\n",
       "#sk-container-id-1 div.sk-toggleable__content {\n",
       "  max-height: 0;\n",
       "  max-width: 0;\n",
       "  overflow: hidden;\n",
       "  text-align: left;\n",
       "  /* unfitted */\n",
       "  background-color: var(--sklearn-color-unfitted-level-0);\n",
       "}\n",
       "\n",
       "#sk-container-id-1 div.sk-toggleable__content.fitted {\n",
       "  /* fitted */\n",
       "  background-color: var(--sklearn-color-fitted-level-0);\n",
       "}\n",
       "\n",
       "#sk-container-id-1 div.sk-toggleable__content pre {\n",
       "  margin: 0.2em;\n",
       "  border-radius: 0.25em;\n",
       "  color: var(--sklearn-color-text);\n",
       "  /* unfitted */\n",
       "  background-color: var(--sklearn-color-unfitted-level-0);\n",
       "}\n",
       "\n",
       "#sk-container-id-1 div.sk-toggleable__content.fitted pre {\n",
       "  /* unfitted */\n",
       "  background-color: var(--sklearn-color-fitted-level-0);\n",
       "}\n",
       "\n",
       "#sk-container-id-1 input.sk-toggleable__control:checked~div.sk-toggleable__content {\n",
       "  /* Expand drop-down */\n",
       "  max-height: 200px;\n",
       "  max-width: 100%;\n",
       "  overflow: auto;\n",
       "}\n",
       "\n",
       "#sk-container-id-1 input.sk-toggleable__control:checked~label.sk-toggleable__label-arrow:before {\n",
       "  content: \"▾\";\n",
       "}\n",
       "\n",
       "/* Pipeline/ColumnTransformer-specific style */\n",
       "\n",
       "#sk-container-id-1 div.sk-label input.sk-toggleable__control:checked~label.sk-toggleable__label {\n",
       "  color: var(--sklearn-color-text);\n",
       "  background-color: var(--sklearn-color-unfitted-level-2);\n",
       "}\n",
       "\n",
       "#sk-container-id-1 div.sk-label.fitted input.sk-toggleable__control:checked~label.sk-toggleable__label {\n",
       "  background-color: var(--sklearn-color-fitted-level-2);\n",
       "}\n",
       "\n",
       "/* Estimator-specific style */\n",
       "\n",
       "/* Colorize estimator box */\n",
       "#sk-container-id-1 div.sk-estimator input.sk-toggleable__control:checked~label.sk-toggleable__label {\n",
       "  /* unfitted */\n",
       "  background-color: var(--sklearn-color-unfitted-level-2);\n",
       "}\n",
       "\n",
       "#sk-container-id-1 div.sk-estimator.fitted input.sk-toggleable__control:checked~label.sk-toggleable__label {\n",
       "  /* fitted */\n",
       "  background-color: var(--sklearn-color-fitted-level-2);\n",
       "}\n",
       "\n",
       "#sk-container-id-1 div.sk-label label.sk-toggleable__label,\n",
       "#sk-container-id-1 div.sk-label label {\n",
       "  /* The background is the default theme color */\n",
       "  color: var(--sklearn-color-text-on-default-background);\n",
       "}\n",
       "\n",
       "/* On hover, darken the color of the background */\n",
       "#sk-container-id-1 div.sk-label:hover label.sk-toggleable__label {\n",
       "  color: var(--sklearn-color-text);\n",
       "  background-color: var(--sklearn-color-unfitted-level-2);\n",
       "}\n",
       "\n",
       "/* Label box, darken color on hover, fitted */\n",
       "#sk-container-id-1 div.sk-label.fitted:hover label.sk-toggleable__label.fitted {\n",
       "  color: var(--sklearn-color-text);\n",
       "  background-color: var(--sklearn-color-fitted-level-2);\n",
       "}\n",
       "\n",
       "/* Estimator label */\n",
       "\n",
       "#sk-container-id-1 div.sk-label label {\n",
       "  font-family: monospace;\n",
       "  font-weight: bold;\n",
       "  display: inline-block;\n",
       "  line-height: 1.2em;\n",
       "}\n",
       "\n",
       "#sk-container-id-1 div.sk-label-container {\n",
       "  text-align: center;\n",
       "}\n",
       "\n",
       "/* Estimator-specific */\n",
       "#sk-container-id-1 div.sk-estimator {\n",
       "  font-family: monospace;\n",
       "  border: 1px dotted var(--sklearn-color-border-box);\n",
       "  border-radius: 0.25em;\n",
       "  box-sizing: border-box;\n",
       "  margin-bottom: 0.5em;\n",
       "  /* unfitted */\n",
       "  background-color: var(--sklearn-color-unfitted-level-0);\n",
       "}\n",
       "\n",
       "#sk-container-id-1 div.sk-estimator.fitted {\n",
       "  /* fitted */\n",
       "  background-color: var(--sklearn-color-fitted-level-0);\n",
       "}\n",
       "\n",
       "/* on hover */\n",
       "#sk-container-id-1 div.sk-estimator:hover {\n",
       "  /* unfitted */\n",
       "  background-color: var(--sklearn-color-unfitted-level-2);\n",
       "}\n",
       "\n",
       "#sk-container-id-1 div.sk-estimator.fitted:hover {\n",
       "  /* fitted */\n",
       "  background-color: var(--sklearn-color-fitted-level-2);\n",
       "}\n",
       "\n",
       "/* Specification for estimator info (e.g. \"i\" and \"?\") */\n",
       "\n",
       "/* Common style for \"i\" and \"?\" */\n",
       "\n",
       ".sk-estimator-doc-link,\n",
       "a:link.sk-estimator-doc-link,\n",
       "a:visited.sk-estimator-doc-link {\n",
       "  float: right;\n",
       "  font-size: smaller;\n",
       "  line-height: 1em;\n",
       "  font-family: monospace;\n",
       "  background-color: var(--sklearn-color-background);\n",
       "  border-radius: 1em;\n",
       "  height: 1em;\n",
       "  width: 1em;\n",
       "  text-decoration: none !important;\n",
       "  margin-left: 1ex;\n",
       "  /* unfitted */\n",
       "  border: var(--sklearn-color-unfitted-level-1) 1pt solid;\n",
       "  color: var(--sklearn-color-unfitted-level-1);\n",
       "}\n",
       "\n",
       ".sk-estimator-doc-link.fitted,\n",
       "a:link.sk-estimator-doc-link.fitted,\n",
       "a:visited.sk-estimator-doc-link.fitted {\n",
       "  /* fitted */\n",
       "  border: var(--sklearn-color-fitted-level-1) 1pt solid;\n",
       "  color: var(--sklearn-color-fitted-level-1);\n",
       "}\n",
       "\n",
       "/* On hover */\n",
       "div.sk-estimator:hover .sk-estimator-doc-link:hover,\n",
       ".sk-estimator-doc-link:hover,\n",
       "div.sk-label-container:hover .sk-estimator-doc-link:hover,\n",
       ".sk-estimator-doc-link:hover {\n",
       "  /* unfitted */\n",
       "  background-color: var(--sklearn-color-unfitted-level-3);\n",
       "  color: var(--sklearn-color-background);\n",
       "  text-decoration: none;\n",
       "}\n",
       "\n",
       "div.sk-estimator.fitted:hover .sk-estimator-doc-link.fitted:hover,\n",
       ".sk-estimator-doc-link.fitted:hover,\n",
       "div.sk-label-container:hover .sk-estimator-doc-link.fitted:hover,\n",
       ".sk-estimator-doc-link.fitted:hover {\n",
       "  /* fitted */\n",
       "  background-color: var(--sklearn-color-fitted-level-3);\n",
       "  color: var(--sklearn-color-background);\n",
       "  text-decoration: none;\n",
       "}\n",
       "\n",
       "/* Span, style for the box shown on hovering the info icon */\n",
       ".sk-estimator-doc-link span {\n",
       "  display: none;\n",
       "  z-index: 9999;\n",
       "  position: relative;\n",
       "  font-weight: normal;\n",
       "  right: .2ex;\n",
       "  padding: .5ex;\n",
       "  margin: .5ex;\n",
       "  width: min-content;\n",
       "  min-width: 20ex;\n",
       "  max-width: 50ex;\n",
       "  color: var(--sklearn-color-text);\n",
       "  box-shadow: 2pt 2pt 4pt #999;\n",
       "  /* unfitted */\n",
       "  background: var(--sklearn-color-unfitted-level-0);\n",
       "  border: .5pt solid var(--sklearn-color-unfitted-level-3);\n",
       "}\n",
       "\n",
       ".sk-estimator-doc-link.fitted span {\n",
       "  /* fitted */\n",
       "  background: var(--sklearn-color-fitted-level-0);\n",
       "  border: var(--sklearn-color-fitted-level-3);\n",
       "}\n",
       "\n",
       ".sk-estimator-doc-link:hover span {\n",
       "  display: block;\n",
       "}\n",
       "\n",
       "/* \"?\"-specific style due to the `<a>` HTML tag */\n",
       "\n",
       "#sk-container-id-1 a.estimator_doc_link {\n",
       "  float: right;\n",
       "  font-size: 1rem;\n",
       "  line-height: 1em;\n",
       "  font-family: monospace;\n",
       "  background-color: var(--sklearn-color-background);\n",
       "  border-radius: 1rem;\n",
       "  height: 1rem;\n",
       "  width: 1rem;\n",
       "  text-decoration: none;\n",
       "  /* unfitted */\n",
       "  color: var(--sklearn-color-unfitted-level-1);\n",
       "  border: var(--sklearn-color-unfitted-level-1) 1pt solid;\n",
       "}\n",
       "\n",
       "#sk-container-id-1 a.estimator_doc_link.fitted {\n",
       "  /* fitted */\n",
       "  border: var(--sklearn-color-fitted-level-1) 1pt solid;\n",
       "  color: var(--sklearn-color-fitted-level-1);\n",
       "}\n",
       "\n",
       "/* On hover */\n",
       "#sk-container-id-1 a.estimator_doc_link:hover {\n",
       "  /* unfitted */\n",
       "  background-color: var(--sklearn-color-unfitted-level-3);\n",
       "  color: var(--sklearn-color-background);\n",
       "  text-decoration: none;\n",
       "}\n",
       "\n",
       "#sk-container-id-1 a.estimator_doc_link.fitted:hover {\n",
       "  /* fitted */\n",
       "  background-color: var(--sklearn-color-fitted-level-3);\n",
       "}\n",
       "</style><div id=\"sk-container-id-1\" class=\"sk-top-container\"><div class=\"sk-text-repr-fallback\"><pre>MultinomialNB()</pre><b>In a Jupyter environment, please rerun this cell to show the HTML representation or trust the notebook. <br />On GitHub, the HTML representation is unable to render, please try loading this page with nbviewer.org.</b></div><div class=\"sk-container\" hidden><div class=\"sk-item\"><div class=\"sk-estimator fitted sk-toggleable\"><input class=\"sk-toggleable__control sk-hidden--visually\" id=\"sk-estimator-id-1\" type=\"checkbox\" checked><label for=\"sk-estimator-id-1\" class=\"sk-toggleable__label fitted sk-toggleable__label-arrow fitted\">&nbsp;&nbsp;MultinomialNB<a class=\"sk-estimator-doc-link fitted\" rel=\"noreferrer\" target=\"_blank\" href=\"https://scikit-learn.org/1.5/modules/generated/sklearn.naive_bayes.MultinomialNB.html\">?<span>Documentation for MultinomialNB</span></a><span class=\"sk-estimator-doc-link fitted\">i<span>Fitted</span></span></label><div class=\"sk-toggleable__content fitted\"><pre>MultinomialNB()</pre></div> </div></div></div></div>"
      ]
     },
     "execution_count": 19,
     "metadata": {},
     "output_type": "execute_result"
    }
   ],
   "execution_count": 19
  },
  {
   "cell_type": "code",
   "metadata": {
    "id": "NrQjzM48Mu4T",
    "ExecuteTime": {
     "end_time": "2025-03-18T20:26:56.575908Z",
     "start_time": "2025-03-18T20:26:56.082812Z"
    }
   },
   "source": [
    "# con nuestro vectorizador ya fiteado en train, vectorizamos los textos\n",
    "# del conjunto de test\n",
    "X_test = tfidfvect.transform(newsgroups_test.data)\n",
    "y_test = newsgroups_test.target\n",
    "y_pred =  clf.predict(X_test)"
   ],
   "outputs": [],
   "execution_count": 20
  },
  {
   "cell_type": "code",
   "metadata": {
    "colab": {
     "base_uri": "https://localhost:8080/"
    },
    "id": "UkGJhetEPdA4",
    "outputId": "232ee2ce-e904-466e-be57-babc1f319029",
    "ExecuteTime": {
     "end_time": "2025-03-18T20:26:56.604038Z",
     "start_time": "2025-03-18T20:26:56.587995Z"
    }
   },
   "source": [
    "# el F1-score es una metrica adecuada para reportar desempeño de modelos de claificación\n",
    "# es robusta al desbalance de clases. El promediado 'macro' es el promedio de los\n",
    "# F1-score de cada clase. El promedio 'micro' es equivalente a la accuracy que no\n",
    "# es una buena métrica cuando los datasets son desbalanceados\n",
    "f1_score(y_test, y_pred, average='macro')"
   ],
   "outputs": [
    {
     "data": {
      "text/plain": [
       "0.5854345727938506"
      ]
     },
     "execution_count": 21,
     "metadata": {},
     "output_type": "execute_result"
    }
   ],
   "execution_count": 21
  },
  {
   "cell_type": "markdown",
   "metadata": {
    "id": "McArD4rSDR2K"
   },
   "source": [
    "### Consigna del desafío 1"
   ]
  },
  {
   "cell_type": "markdown",
   "metadata": {
    "id": "lJgf6GQIIEH1"
   },
   "source": [
    "**1**. Vectorizar documentos. Tomar 5 documentos al azar y medir similaridad con el resto de los documentos.\n",
    "Estudiar los 5 documentos más similares de cada uno analizar si tiene sentido\n",
    "la similaridad según el contenido del texto y la etiqueta de clasificación.\n",
    "\n",
    "**2**. Entrenar modelos de clasificación Naïve Bayes para maximizar el desempeño de clasificación\n",
    "(f1-score macro) en el conjunto de datos de test. Considerar cambiar parámteros\n",
    "de instanciación del vectorizador y los modelos y probar modelos de Naïve Bayes Multinomial\n",
    "y ComplementNB.\n",
    "\n",
    "**3**. Transponer la matriz documento-término. De esa manera se obtiene una matriz\n",
    "término-documento que puede ser interpretada como una colección de vectorización de palabras.\n",
    "Estudiar ahora similaridad entre palabras tomando 5 palabras y estudiando sus 5 más similares. **La elección de palabras no debe ser al azar para evitar la aparición de términos poco interpretables, elegirlas \"manualmente\"**.\n"
   ]
  },
  {
   "cell_type": "markdown",
   "metadata": {},
   "source": []
  },
  {
   "metadata": {
    "ExecuteTime": {
     "end_time": "2025-03-18T20:44:43.474570Z",
     "start_time": "2025-03-18T20:44:42.065922Z"
    }
   },
   "cell_type": "code",
   "source": [
    "# Importar las librerías necesarias\n",
    "from sklearn.feature_extraction.text import TfidfVectorizer\n",
    "\n",
    "# Instanciar el vectorizador TF-IDF\n",
    "tfidfvect = TfidfVectorizer()\n",
    "\n",
    "# Aplicar la vectorización a los documentos de entrenamiento\n",
    "X_train = tfidfvect.fit_transform(newsgroups_train.data)\n",
    "\n",
    "# Aplicar la vectorización a los documentos de prueba\n",
    "X_test = tfidfvect.transform(newsgroups_test.data)\n",
    "\n",
    "# Mostrar información sobre la matriz documento-término resultante\n",
    "X_train.shape\n"
   ],
   "outputs": [
    {
     "data": {
      "text/plain": [
       "(11314, 101631)"
      ]
     },
     "execution_count": 31,
     "metadata": {},
     "output_type": "execute_result"
    }
   ],
   "execution_count": 31
  },
  {
   "metadata": {
    "ExecuteTime": {
     "end_time": "2025-03-18T20:45:38.084598Z",
     "start_time": "2025-03-18T20:45:38.001607Z"
    }
   },
   "cell_type": "code",
   "source": [
    "# Volver a ejecutar el análisis de similitud sin ace_tools\n",
    "\n",
    "import random\n",
    "import pandas as pd\n",
    "\n",
    "# Seleccionar 5 documentos al azar del conjunto de entrenamiento\n",
    "random_idxs = random.sample(range(X_train.shape[0]), 5)\n",
    "\n",
    "# Diccionario para almacenar los resultados\n",
    "similarity_results = {}\n",
    "\n",
    "for idx in random_idxs:\n",
    "    # Obtener el documento original y su categoría\n",
    "    original_class = newsgroups_train.target_names[y_train[idx]]\n",
    "\n",
    "    # Medir la similitud coseno con todos los documentos de train\n",
    "    cossim = cosine_similarity(X_train[idx], X_train)[0]\n",
    "\n",
    "    # Obtener los índices de los 5 documentos más similares (excluyendo el mismo documento)\n",
    "    mostsim = np.argsort(cossim)[::-1][1:6]\n",
    "\n",
    "    # Obtener las clases de los documentos más similares\n",
    "    similar_classes = [newsgroups_train.target_names[y_train[i]] for i in mostsim]\n",
    "\n",
    "    # Almacenar los resultados\n",
    "    similarity_results[idx] = {\n",
    "        \"original_class\": original_class,\n",
    "        \"most_similar_indices\": mostsim,\n",
    "        \"most_similar_classes\": similar_classes,\n",
    "        \"similarity_scores\": cossim[mostsim]\n",
    "    }\n",
    "\n",
    "# Crear un DataFrame para mostrar los resultados\n",
    "df_results = []\n",
    "for idx, data in similarity_results.items():\n",
    "    for i in range(5):\n",
    "        df_results.append({\n",
    "            \"Original Index\": idx,\n",
    "            \"Original Class\": data[\"original_class\"],\n",
    "            \"Similar Index\": data[\"most_similar_indices\"][i],\n",
    "            \"Similar Class\": data[\"most_similar_classes\"][i],\n",
    "            \"Similarity Score\": data[\"similarity_scores\"][i]\n",
    "        })\n",
    "\n",
    "df_similarity = pd.DataFrame(df_results)\n",
    "\n",
    "# Mostrar resultados en consola\n",
    "print(df_similarity)\n"
   ],
   "outputs": [
    {
     "name": "stdout",
     "output_type": "stream",
     "text": [
      "    Original Index          Original Class  Similar Index  \\\n",
      "0              650  soc.religion.christian            913   \n",
      "1              650  soc.religion.christian           6356   \n",
      "2              650  soc.religion.christian            643   \n",
      "3              650  soc.religion.christian           6342   \n",
      "4              650  soc.religion.christian           6910   \n",
      "5             2427      talk.politics.misc           4006   \n",
      "6             2427      talk.politics.misc           6190   \n",
      "7             2427      talk.politics.misc          11156   \n",
      "8             2427      talk.politics.misc           3514   \n",
      "9             2427      talk.politics.misc           9903   \n",
      "10            3081   comp.sys.mac.hardware           5233   \n",
      "11            3081   comp.sys.mac.hardware           8926   \n",
      "12            3081   comp.sys.mac.hardware           1529   \n",
      "13            3081   comp.sys.mac.hardware            752   \n",
      "14            3081   comp.sys.mac.hardware           8688   \n",
      "15            9598               sci.crypt          11009   \n",
      "16            9598               sci.crypt           3271   \n",
      "17            9598               sci.crypt          10836   \n",
      "18            9598               sci.crypt            447   \n",
      "19            9598               sci.crypt          11244   \n",
      "20            9343  soc.religion.christian           8146   \n",
      "21            9343  soc.religion.christian           4170   \n",
      "22            9343  soc.religion.christian           9623   \n",
      "23            9343  soc.religion.christian           4271   \n",
      "24            9343  soc.religion.christian           6894   \n",
      "\n",
      "               Similar Class  Similarity Score  \n",
      "0                alt.atheism          0.462179  \n",
      "1     soc.religion.christian          0.420891  \n",
      "2         talk.religion.misc          0.403262  \n",
      "3     soc.religion.christian          0.387807  \n",
      "4     soc.religion.christian          0.372609  \n",
      "5         talk.politics.misc          0.304786  \n",
      "6         talk.politics.misc          0.255831  \n",
      "7                    sci.med          0.165510  \n",
      "8         talk.politics.guns          0.164759  \n",
      "9     soc.religion.christian          0.151368  \n",
      "10     comp.sys.mac.hardware          0.668131  \n",
      "11     comp.sys.mac.hardware          0.377154  \n",
      "12     comp.sys.mac.hardware          0.209343  \n",
      "13     comp.sys.mac.hardware          0.197684  \n",
      "14     comp.sys.mac.hardware          0.191107  \n",
      "15                 sci.crypt          0.197447  \n",
      "16                 sci.crypt          0.187052  \n",
      "17               alt.atheism          0.184645  \n",
      "18                 sci.crypt          0.182645  \n",
      "19  comp.sys.ibm.pc.hardware          0.181960  \n",
      "20    soc.religion.christian          0.843394  \n",
      "21    soc.religion.christian          0.594380  \n",
      "22     talk.politics.mideast          0.203948  \n",
      "23        talk.politics.misc          0.203697  \n",
      "24        talk.politics.guns          0.200086  \n"
     ]
    }
   ],
   "execution_count": 33
  },
  {
   "metadata": {},
   "cell_type": "markdown",
   "source": [
    "\n",
    "## **Análisis de los Documentos Similares**\n",
    "\n",
    "### **Documento 650 (`soc.religion.christian`)**\n",
    "- **Coherente:** La mayoría de los documentos similares pertenecen a la categoría `soc.religion.christian`, lo cual es esperado.\n",
    "- **Inesperado:** La presencia de un documento de `alt.atheism` con alta similitud (0.4621) sugiere que hay términos compartidos en discusiones sobre religión.\n",
    "\n",
    "✅ **Conclusión:** La similitud tiene sentido en su mayoría, aunque el documento de `alt.atheism` es un caso interesante.\n",
    "\n",
    "---\n",
    "\n",
    "### **Documento 2427 (`talk.politics.misc`)**\n",
    "- **Coherente:** La mayoría de los documentos similares están en `talk.politics.misc` y `talk.politics.guns`, lo que es lógico.\n",
    "- **Inesperado:** Un documento de `sci.med` con similitud (0.1655) indica que pudo haber términos compartidos sobre políticas de salud pública.\n",
    "\n",
    "✅ **Conclusión:** En general, la similitud es razonable, aunque el documento de `sci.med` es un caso atípico.\n",
    "\n",
    "---\n",
    "\n",
    "### **Documento 3081 (`comp.sys.mac.hardware`)**\n",
    "- **Totalmente coherente:** Todos los documentos similares pertenecen a la misma categoría `comp.sys.mac.hardware`, lo cual indica que el modelo está funcionando bien en este caso.\n",
    "\n",
    "✅ **Conclusión:** La similitud está bien capturada en este caso.\n",
    "\n",
    "---\n",
    "\n",
    "### **Documento 9598 (`sci.crypt`)**\n",
    "- **Coherente:** Tres de los cinco documentos similares pertenecen a `sci.crypt`, lo que tiene sentido.\n",
    "- **Inesperado:** Un documento en `alt.atheism` (0.1846) es raro, probablemente debido a términos compartidos en debates filosóficos o técnicos.\n",
    "- **Extraño:** La presencia de un documento de `comp.sys.ibm.pc.hardware` (0.1819) podría deberse a términos comunes en informática.\n",
    "\n",
    "✅ **Conclusión:** La similitud es mayormente correcta, pero el documento de `alt.atheism` es extraño.\n",
    "\n",
    "---\n",
    "\n",
    "### **Documento 9343 (`soc.religion.christian`)**\n",
    "- **Coherente:** Dos documentos de `soc.religion.christian` son los más similares.\n",
    "- **Parcialmente inesperado:** La similitud con documentos de `talk.politics.mideast`, `talk.politics.misc` y `talk.politics.guns` sugiere que los temas de religión y política pueden solaparse.\n",
    "\n",
    "✅ **Conclusión:** La similitud es razonable, pero la conexión con documentos de política sugiere que en este caso la religión se está discutiendo en un contexto más político.\n",
    "\n",
    "---\n",
    "\n",
    "## **Conclusión General**\n",
    "- **Casos correctos:**\n",
    "  - `comp.sys.mac.hardware` fue identificado con alta precisión.\n",
    "  - `soc.religion.christian` también tuvo buenas similitudes con documentos de la misma categoría.\n",
    "\n",
    "- **Casos parcialmente correctos:**\n",
    "  - `talk.politics.misc` y `sci.crypt` incluyen documentos de categorías inesperadas.\n",
    "  - `talk.politics.mideast` y `soc.religion.christian` están relacionados en algunos contextos.\n",
    "\n",
    "- **Casos inesperados:**\n",
    "  - La presencia de `alt.atheism` en `soc.religion.christian` y `sci.crypt` puede ser por términos en común en debates filosóficos o técnicos.\n",
    "  - `sci.med` apareciendo en `talk.politics.misc` puede indicar discusiones sobre políticas de salud.\n",
    "\n",
    "---\n",
    "\n",
    "## **Mejoras para el Modelo**\n",
    "- **Eliminar términos comunes:** Excluir palabras compartidas en múltiples categorías (`stop words` adicionales).\n",
    "- **Usar embeddings más avanzados:** Modelos como `Word2Vec`, `FastText` o `BERT` podrían capturar mejor el significado de los textos.\n",
    "- **Probar otras métricas de similitud:** Además de la similitud coseno, se pueden probar técnicas como `LSA` o `UMAP` para encontrar relaciones más precisas.\n",
    "\n",
    "---\n",
    "\n",
    "✅ **¡Análisis completado!** 🚀\n"
   ]
  }
 ],
 "metadata": {
  "colab": {
   "provenance": []
  },
  "kernelspec": {
   "display_name": ".venv",
   "language": "python",
   "name": "python3"
  },
  "language_info": {
   "codemirror_mode": {
    "name": "ipython",
    "version": 3
   },
   "file_extension": ".py",
   "mimetype": "text/x-python",
   "name": "python",
   "nbconvert_exporter": "python",
   "pygments_lexer": "ipython3",
   "version": "3.12.3"
  }
 },
 "nbformat": 4,
 "nbformat_minor": 0
}
