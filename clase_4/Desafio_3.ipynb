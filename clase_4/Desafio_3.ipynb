{
  "cells": [
    {
      "cell_type": "markdown",
      "metadata": {
        "id": "view-in-github",
        "colab_type": "text"
      },
      "source": [
        "<a href=\"https://colab.research.google.com/github/gonzalosil/PNL/blob/main/clase_4/Desafio_3.ipynb\" target=\"_parent\"><img src=\"https://colab.research.google.com/assets/colab-badge.svg\" alt=\"Open In Colab\"/></a>"
      ]
    },
    {
      "cell_type": "markdown",
      "id": "d8ca6617",
      "metadata": {
        "id": "d8ca6617"
      },
      "source": [
        "### Datos\n",
        "Utilizare como dataset el tercer libro de la saga Harry Potter"
      ]
    },
    {
      "cell_type": "code",
      "source": [
        "import os\n",
        "dataset_path = '03 Harry Potter and the Prisoner of Azkaban.txt'\n",
        "if not os.path.exists(dataset_path):\n",
        "\n",
        "  !wget https://raw.githubusercontent.com/gonzalosil/PNL/main/clase_2/HP_books/03%20Harry%20Potter%20and%20the%20Prisoner%20of%20Azkaban.txt\n"
      ],
      "metadata": {
        "id": "J1zp_xjdiWu1"
      },
      "id": "J1zp_xjdiWu1",
      "execution_count": 1,
      "outputs": []
    },
    {
      "cell_type": "code",
      "id": "046fc10b",
      "metadata": {
        "ExecuteTime": {
          "end_time": "2025-04-07T13:30:03.403723Z",
          "start_time": "2025-04-07T13:30:03.390363Z"
        },
        "colab": {
          "base_uri": "https://localhost:8080/"
        },
        "id": "046fc10b",
        "outputId": "53d953b1-7cc9-462a-8165-68cfd4cda302"
      },
      "source": [
        "with open(dataset_path, 'r') as f:\n",
        "  text = f.read()\n",
        "\n",
        "print(len(text))\n",
        "print(text[:1000])"
      ],
      "outputs": [
        {
          "output_type": "stream",
          "name": "stdout",
          "text": [
            "625735\n",
            "Harry Potter was a highly unusual boy in many ways. For one thing, he hated the summer holidays more than any other time of year. For another, he really wanted to do his homework, but was forced to do it in secret, in the dead of night. And he also happened to be a wizard.\n",
            "\n",
            "It was nearly midnight, and he was lying on his front in bed, the blankets drawn right over his head like a tent, a torch in one hand and a large leather-bound book (A History of Magic, by Adalbert Waffling) propped open against the pillow. Harry moved the tip of his eagle-feather quill down the page, frowning as he looked for something that would help him write his essay, ‘Witch-Burning in the Fourteenth Century Was Completely Pointless – discuss’.\n",
            "\n",
            "The quill paused at the top of a likely-looking paragraph. Harry pushed his round glasses up his nose, moved his torch closer to the book and read:\n",
            "\n",
            "\n",
            "\n",
            "Non-magic people (more commonly known as Muggles) were particularly afraid of magic in medieval times, but not very goo\n"
          ]
        }
      ],
      "execution_count": 2
    },
    {
      "cell_type": "markdown",
      "id": "f9649b79",
      "metadata": {
        "id": "f9649b79"
      },
      "source": [
        "### Elegir el tamaño del contexto\n",
        "Para este ejercicio seleccionaremos un tamaño fijo de contexto de 5 palabras."
      ]
    },
    {
      "cell_type": "code",
      "id": "9997476c",
      "metadata": {
        "ExecuteTime": {
          "end_time": "2025-04-07T13:30:16.557537Z",
          "start_time": "2025-04-07T13:30:16.533096Z"
        },
        "colab": {
          "base_uri": "https://localhost:8080/"
        },
        "id": "9997476c",
        "outputId": "8f92d292-6da6-47f2-ed49-64b5c3367d1c"
      },
      "source": [
        "max_context_size = 100\n",
        "\n",
        "# Usaremos las utilidades de procesamiento de textos y secuencias de Keras\n",
        "\n",
        "from tensorflow.keras.utils import pad_sequences # se utilizará para padding\n",
        "\n",
        "# en este caso el vocabulario es el conjunto único de caracteres que existe en tod el texto\n",
        "chars_vocab = set(text)\n",
        "\n",
        "# la longitud de vocabulario de caracteres es:\n",
        "print(len(chars_vocab))\n",
        "\n",
        "# Construimos los dicionarios que asignan índices a caracteres y viceversa.\n",
        "# El diccionario `char2idx` servirá como tokenizador.\n",
        "char2idx = {k: v for v,k in enumerate(chars_vocab)}\n",
        "idx2char = {v: k for k,v in char2idx.items()}\n"
      ],
      "outputs": [
        {
          "output_type": "stream",
          "name": "stdout",
          "text": [
            "75\n"
          ]
        }
      ],
      "execution_count": 3
    },
    {
      "cell_type": "markdown",
      "id": "06a0b43f",
      "metadata": {
        "id": "06a0b43f"
      },
      "source": [
        "###  Tokenizar"
      ]
    },
    {
      "cell_type": "code",
      "id": "49057573",
      "metadata": {
        "ExecuteTime": {
          "end_time": "2025-04-07T13:30:45.460157Z",
          "start_time": "2025-04-07T13:30:45.424805Z"
        },
        "colab": {
          "base_uri": "https://localhost:8080/"
        },
        "id": "49057573",
        "outputId": "e14423fc-c27d-42d7-89ae-d849013264dc"
      },
      "source": [
        "# tokenizamos el texto completo\n",
        "tokenized_text = [char2idx[ch] for ch in text]\n",
        "tokenized_text[:25]"
      ],
      "outputs": [
        {
          "output_type": "execute_result",
          "data": {
            "text/plain": [
              "[25,\n",
              " 3,\n",
              " 23,\n",
              " 23,\n",
              " 31,\n",
              " 58,\n",
              " 26,\n",
              " 54,\n",
              " 36,\n",
              " 36,\n",
              " 29,\n",
              " 23,\n",
              " 58,\n",
              " 65,\n",
              " 3,\n",
              " 19,\n",
              " 58,\n",
              " 3,\n",
              " 58,\n",
              " 40,\n",
              " 55,\n",
              " 7,\n",
              " 40,\n",
              " 71,\n",
              " 31]"
            ]
          },
          "metadata": {},
          "execution_count": 4
        }
      ],
      "execution_count": 4
    },
    {
      "cell_type": "markdown",
      "id": "c8d151c4",
      "metadata": {
        "id": "c8d151c4"
      },
      "source": [
        "### Organizando y estructurando el dataset"
      ]
    },
    {
      "cell_type": "code",
      "id": "c5a3cc80",
      "metadata": {
        "ExecuteTime": {
          "end_time": "2025-04-07T13:38:04.943128Z",
          "start_time": "2025-04-07T13:38:00.383659Z"
        },
        "id": "c5a3cc80"
      },
      "source": [
        "import numpy as np\n",
        "\n",
        "# separaremos el dataset entre entrenamiento y validación.\n",
        "# `p_val` será la proporción del corpus que se reservará para validación\n",
        "# `num_val` es la cantidad de secuencias de tamaño `max_context_size` que se usará en validación\n",
        "p_val = 0.1\n",
        "num_val = int(np.ceil(len(tokenized_text)*p_val/max_context_size))\n",
        "\n",
        "# separamos la porción de texto utilizada en entrenamiento de la de validación.\n",
        "train_text = tokenized_text[:-num_val*max_context_size]\n",
        "val_text = tokenized_text[-num_val*max_context_size:]\n",
        "\n",
        "tokenized_sentences_val = [val_text[init*max_context_size:init*(max_context_size+1)] for init in range(num_val)]\n",
        "\n",
        "tokenized_sentences_train = [train_text[init:init+max_context_size] for init in range(len(train_text)-max_context_size+1)]\n",
        "\n",
        "X = np.array(tokenized_sentences_train[:-1])\n",
        "y = np.array(tokenized_sentences_train[1:])"
      ],
      "outputs": [],
      "execution_count": 5
    },
    {
      "metadata": {
        "ExecuteTime": {
          "end_time": "2025-04-07T13:38:06.549053Z",
          "start_time": "2025-04-07T13:38:06.545083Z"
        },
        "colab": {
          "base_uri": "https://localhost:8080/"
        },
        "id": "7ae72b155cf3ab5b",
        "outputId": "70435cbb-7a51-4a6e-cbe2-eb525ad70766"
      },
      "cell_type": "code",
      "source": [
        "print(len(tokenized_sentences_val))\n",
        "print(len(tokenized_sentences_val[0]))"
      ],
      "id": "7ae72b155cf3ab5b",
      "outputs": [
        {
          "output_type": "stream",
          "name": "stdout",
          "text": [
            "626\n",
            "0\n"
          ]
        }
      ],
      "execution_count": 6
    },
    {
      "metadata": {
        "id": "9b44e3b132cc69f4"
      },
      "cell_type": "markdown",
      "source": [
        "Nótese que estamos estructurando el problema de aprendizaje como many-to-many:\n",
        "\n",
        "Entrada: secuencia de tokens $[x_0,x_1, ..., x_n]$\n",
        "\n",
        "Target: secuencia de tokens $[x_1,x_2, ...,x_{n+1}]$\n",
        "\n",
        "De manera que la red tiene que aprender que su salida deben ser los tokens desplazados en una posición y un nuevo token predicho (el N+1).\n",
        "\n",
        "La ventaja de estructurar el aprendizaje de esta manera es que para cada token de target se propaga una señal de gradiente por el grafo de cómputo recurrente, que es mejor que estructurar el problema como many-to-one en donde sólo una señal de gradiente se propaga."
      ],
      "id": "9b44e3b132cc69f4"
    },
    {
      "metadata": {
        "ExecuteTime": {
          "end_time": "2025-04-07T13:39:19.873462Z",
          "start_time": "2025-04-07T13:39:19.866004Z"
        },
        "colab": {
          "base_uri": "https://localhost:8080/"
        },
        "id": "fb99e1e59ff7f773",
        "outputId": "9dc7ddc3-51a9-49bd-c17b-68e13499ccf7"
      },
      "cell_type": "code",
      "source": [
        "X.shape"
      ],
      "id": "fb99e1e59ff7f773",
      "outputs": [
        {
          "output_type": "execute_result",
          "data": {
            "text/plain": [
              "(563035, 100)"
            ]
          },
          "metadata": {},
          "execution_count": 7
        }
      ],
      "execution_count": 7
    },
    {
      "metadata": {
        "ExecuteTime": {
          "end_time": "2025-04-07T13:39:23.000095Z",
          "start_time": "2025-04-07T13:39:22.994276Z"
        },
        "colab": {
          "base_uri": "https://localhost:8080/"
        },
        "id": "dee95952108e16d5",
        "outputId": "887ac5a3-9908-4a42-ceca-54e3b9ab4148"
      },
      "cell_type": "code",
      "source": [
        "X[0,:10]"
      ],
      "id": "dee95952108e16d5",
      "outputs": [
        {
          "output_type": "execute_result",
          "data": {
            "text/plain": [
              "array([25,  3, 23, 23, 31, 58, 26, 54, 36, 36])"
            ]
          },
          "metadata": {},
          "execution_count": 8
        }
      ],
      "execution_count": 8
    },
    {
      "metadata": {
        "ExecuteTime": {
          "end_time": "2025-04-07T13:39:25.801705Z",
          "start_time": "2025-04-07T13:39:25.794448Z"
        },
        "colab": {
          "base_uri": "https://localhost:8080/"
        },
        "id": "98dfa86e966b6a9b",
        "outputId": "b7a804a3-8556-4e68-dd71-580e1e1262a0"
      },
      "cell_type": "code",
      "source": [
        "y[0,:10]"
      ],
      "id": "98dfa86e966b6a9b",
      "outputs": [
        {
          "output_type": "execute_result",
          "data": {
            "text/plain": [
              "array([ 3, 23, 23, 31, 58, 26, 54, 36, 36, 29])"
            ]
          },
          "metadata": {},
          "execution_count": 9
        }
      ],
      "execution_count": 9
    },
    {
      "metadata": {
        "ExecuteTime": {
          "end_time": "2025-04-07T13:39:26.768240Z",
          "start_time": "2025-04-07T13:39:26.764227Z"
        },
        "colab": {
          "base_uri": "https://localhost:8080/"
        },
        "id": "fd49c500ffa1ca23",
        "outputId": "25cb9c19-240c-41a1-eb16-3a5e3fe30237"
      },
      "cell_type": "code",
      "source": [
        "vocab_size = len(chars_vocab)\n",
        "vocab_size"
      ],
      "id": "fd49c500ffa1ca23",
      "outputs": [
        {
          "output_type": "execute_result",
          "data": {
            "text/plain": [
              "75"
            ]
          },
          "metadata": {},
          "execution_count": 10
        }
      ],
      "execution_count": 10
    },
    {
      "cell_type": "markdown",
      "id": "4675fc07",
      "metadata": {
        "id": "4675fc07"
      },
      "source": [
        "## Definiendo el modelo\n",
        "Usaremos una red neuronal simple con embedding, RNN y una capa final linear."
      ]
    },
    {
      "cell_type": "code",
      "id": "e5de31cd",
      "metadata": {
        "ExecuteTime": {
          "end_time": "2025-04-07T13:46:29.365646Z",
          "start_time": "2025-04-07T13:46:29.349650Z"
        },
        "id": "e5de31cd"
      },
      "source": [
        "from keras.layers import Input, TimeDistributed, CategoryEncoding, SimpleRNN, Dense\n",
        "from keras.models import Model, Sequential"
      ],
      "outputs": [],
      "execution_count": 22
    },
    {
      "metadata": {
        "id": "31c9e41324a056d9"
      },
      "cell_type": "markdown",
      "source": [
        "El modelo que se propone como ejemplo consume los índices de los tokens y los transforma en vectores OHE (en este caso no entrenamos una capa de embedding para caracteres). Esa transformación se logra combinando las capas CategoryEncoding que transforma a índices a vectores OHE y TimeDistributed que aplica la capa a lo largo de la dimensión \"temporal\" de la secuencia."
      ],
      "id": "31c9e41324a056d9"
    },
    {
      "cell_type": "code",
      "id": "c7683727",
      "metadata": {
        "ExecuteTime": {
          "end_time": "2025-04-07T13:48:38.930224Z",
          "start_time": "2025-04-07T13:48:38.867552Z"
        },
        "colab": {
          "base_uri": "https://localhost:8080/",
          "height": 232
        },
        "id": "c7683727",
        "outputId": "126b0014-a09e-4904-bba7-20f53ec92de0"
      },
      "source": [
        "model = Sequential()\n",
        "model.add(Input(shape=(None, 1)))\n",
        "model.add(TimeDistributed(CategoryEncoding(num_tokens=vocab_size, output_mode=\"one_hot\")))\n",
        "\n",
        "model.add(SimpleRNN(200, return_sequences=True, dropout=0.1, recurrent_dropout=0.1 ))\n",
        "model.add(Dense(vocab_size, activation='softmax'))\n",
        "model.compile(loss='sparse_categorical_crossentropy', optimizer='rmsprop')\n",
        "\n",
        "model.summary()"
      ],
      "outputs": [
        {
          "output_type": "display_data",
          "data": {
            "text/plain": [
              "\u001b[1mModel: \"sequential\"\u001b[0m\n"
            ],
            "text/html": [
              "<pre style=\"white-space:pre;overflow-x:auto;line-height:normal;font-family:Menlo,'DejaVu Sans Mono',consolas,'Courier New',monospace\"><span style=\"font-weight: bold\">Model: \"sequential\"</span>\n",
              "</pre>\n"
            ]
          },
          "metadata": {}
        },
        {
          "output_type": "display_data",
          "data": {
            "text/plain": [
              "┏━━━━━━━━━━━━━━━━━━━━━━━━━━━━━━━━━━━━━━┳━━━━━━━━━━━━━━━━━━━━━━━━━━━━━┳━━━━━━━━━━━━━━━━━┓\n",
              "┃\u001b[1m \u001b[0m\u001b[1mLayer (type)                        \u001b[0m\u001b[1m \u001b[0m┃\u001b[1m \u001b[0m\u001b[1mOutput Shape               \u001b[0m\u001b[1m \u001b[0m┃\u001b[1m \u001b[0m\u001b[1m        Param #\u001b[0m\u001b[1m \u001b[0m┃\n",
              "┡━━━━━━━━━━━━━━━━━━━━━━━━━━━━━━━━━━━━━━╇━━━━━━━━━━━━━━━━━━━━━━━━━━━━━╇━━━━━━━━━━━━━━━━━┩\n",
              "│ time_distributed (\u001b[38;5;33mTimeDistributed\u001b[0m)   │ (\u001b[38;5;45mNone\u001b[0m, \u001b[38;5;45mNone\u001b[0m, \u001b[38;5;34m75\u001b[0m)            │               \u001b[38;5;34m0\u001b[0m │\n",
              "├──────────────────────────────────────┼─────────────────────────────┼─────────────────┤\n",
              "│ simple_rnn (\u001b[38;5;33mSimpleRNN\u001b[0m)               │ (\u001b[38;5;45mNone\u001b[0m, \u001b[38;5;45mNone\u001b[0m, \u001b[38;5;34m200\u001b[0m)           │          \u001b[38;5;34m55,200\u001b[0m │\n",
              "├──────────────────────────────────────┼─────────────────────────────┼─────────────────┤\n",
              "│ dense (\u001b[38;5;33mDense\u001b[0m)                        │ (\u001b[38;5;45mNone\u001b[0m, \u001b[38;5;45mNone\u001b[0m, \u001b[38;5;34m75\u001b[0m)            │          \u001b[38;5;34m15,075\u001b[0m │\n",
              "└──────────────────────────────────────┴─────────────────────────────┴─────────────────┘\n"
            ],
            "text/html": [
              "<pre style=\"white-space:pre;overflow-x:auto;line-height:normal;font-family:Menlo,'DejaVu Sans Mono',consolas,'Courier New',monospace\">┏━━━━━━━━━━━━━━━━━━━━━━━━━━━━━━━━━━━━━━┳━━━━━━━━━━━━━━━━━━━━━━━━━━━━━┳━━━━━━━━━━━━━━━━━┓\n",
              "┃<span style=\"font-weight: bold\"> Layer (type)                         </span>┃<span style=\"font-weight: bold\"> Output Shape                </span>┃<span style=\"font-weight: bold\">         Param # </span>┃\n",
              "┡━━━━━━━━━━━━━━━━━━━━━━━━━━━━━━━━━━━━━━╇━━━━━━━━━━━━━━━━━━━━━━━━━━━━━╇━━━━━━━━━━━━━━━━━┩\n",
              "│ time_distributed (<span style=\"color: #0087ff; text-decoration-color: #0087ff\">TimeDistributed</span>)   │ (<span style=\"color: #00d7ff; text-decoration-color: #00d7ff\">None</span>, <span style=\"color: #00d7ff; text-decoration-color: #00d7ff\">None</span>, <span style=\"color: #00af00; text-decoration-color: #00af00\">75</span>)            │               <span style=\"color: #00af00; text-decoration-color: #00af00\">0</span> │\n",
              "├──────────────────────────────────────┼─────────────────────────────┼─────────────────┤\n",
              "│ simple_rnn (<span style=\"color: #0087ff; text-decoration-color: #0087ff\">SimpleRNN</span>)               │ (<span style=\"color: #00d7ff; text-decoration-color: #00d7ff\">None</span>, <span style=\"color: #00d7ff; text-decoration-color: #00d7ff\">None</span>, <span style=\"color: #00af00; text-decoration-color: #00af00\">200</span>)           │          <span style=\"color: #00af00; text-decoration-color: #00af00\">55,200</span> │\n",
              "├──────────────────────────────────────┼─────────────────────────────┼─────────────────┤\n",
              "│ dense (<span style=\"color: #0087ff; text-decoration-color: #0087ff\">Dense</span>)                        │ (<span style=\"color: #00d7ff; text-decoration-color: #00d7ff\">None</span>, <span style=\"color: #00d7ff; text-decoration-color: #00d7ff\">None</span>, <span style=\"color: #00af00; text-decoration-color: #00af00\">75</span>)            │          <span style=\"color: #00af00; text-decoration-color: #00af00\">15,075</span> │\n",
              "└──────────────────────────────────────┴─────────────────────────────┴─────────────────┘\n",
              "</pre>\n"
            ]
          },
          "metadata": {}
        },
        {
          "output_type": "display_data",
          "data": {
            "text/plain": [
              "\u001b[1m Total params: \u001b[0m\u001b[38;5;34m70,275\u001b[0m (274.51 KB)\n"
            ],
            "text/html": [
              "<pre style=\"white-space:pre;overflow-x:auto;line-height:normal;font-family:Menlo,'DejaVu Sans Mono',consolas,'Courier New',monospace\"><span style=\"font-weight: bold\"> Total params: </span><span style=\"color: #00af00; text-decoration-color: #00af00\">70,275</span> (274.51 KB)\n",
              "</pre>\n"
            ]
          },
          "metadata": {}
        },
        {
          "output_type": "display_data",
          "data": {
            "text/plain": [
              "\u001b[1m Trainable params: \u001b[0m\u001b[38;5;34m70,275\u001b[0m (274.51 KB)\n"
            ],
            "text/html": [
              "<pre style=\"white-space:pre;overflow-x:auto;line-height:normal;font-family:Menlo,'DejaVu Sans Mono',consolas,'Courier New',monospace\"><span style=\"font-weight: bold\"> Trainable params: </span><span style=\"color: #00af00; text-decoration-color: #00af00\">70,275</span> (274.51 KB)\n",
              "</pre>\n"
            ]
          },
          "metadata": {}
        },
        {
          "output_type": "display_data",
          "data": {
            "text/plain": [
              "\u001b[1m Non-trainable params: \u001b[0m\u001b[38;5;34m0\u001b[0m (0.00 B)\n"
            ],
            "text/html": [
              "<pre style=\"white-space:pre;overflow-x:auto;line-height:normal;font-family:Menlo,'DejaVu Sans Mono',consolas,'Courier New',monospace\"><span style=\"font-weight: bold\"> Non-trainable params: </span><span style=\"color: #00af00; text-decoration-color: #00af00\">0</span> (0.00 B)\n",
              "</pre>\n"
            ]
          },
          "metadata": {}
        }
      ],
      "execution_count": 12
    },
    {
      "cell_type": "markdown",
      "source": [
        "### Definir modelo"
      ],
      "metadata": {
        "id": "JY-RV3kOlBLq"
      },
      "id": "JY-RV3kOlBLq"
    },
    {
      "cell_type": "code",
      "source": [
        "import numpy as np\n",
        "from tensorflow.keras.callbacks import Callback\n",
        "from tensorflow.keras.preprocessing.sequence import pad_sequences\n",
        "\n",
        "class PplCallback(Callback):\n",
        "\n",
        "    '''\n",
        "    Este callback es una solución ad-hoc para calcular al final de cada epoch de\n",
        "    entrenamiento la métrica de Perplejidad sobre un conjunto de datos de validación.\n",
        "    La perplejidad es una métrica cuantitativa para evaluar la calidad de la generación de secuencias.\n",
        "    Además implementa la finalización del entrenamiento (Early Stopping)\n",
        "    si la perplejidad no mejora después de `patience` epochs.\n",
        "    '''\n",
        "\n",
        "    def __init__(self, val_data, history_ppl, max_context_size, batch_size=512, patience=5):\n",
        "        # El callback lo inicializamos con secuencias de validación sobre las cuales\n",
        "        # mediremos la perplejidad\n",
        "        self.val_data = val_data\n",
        "        self.history_ppl = history_ppl\n",
        "        self.max_context_size = max_context_size\n",
        "        self.batch_size = batch_size\n",
        "        self.patience = patience\n",
        "\n",
        "        self.min_score = np.inf\n",
        "        self.patience_counter = 0\n",
        "\n",
        "        self.X = []\n",
        "        self.y = []\n",
        "\n",
        "        # nos movemos en todas las secuencias de los datos de validación\n",
        "        for seq in self.val_data:\n",
        "            len_seq = len(seq)\n",
        "\n",
        "            # armamos todas las subsecuencias\n",
        "            for i in range(1, len_seq):\n",
        "                subseq = seq[:i]\n",
        "                self.X.append(subseq)\n",
        "                self.y.append(seq[i])\n",
        "\n",
        "        # rellenamos todas las subsecuencias a la izquierda (padding)\n",
        "        self.X = pad_sequences(self.X, maxlen=self.max_context_size, padding='pre')\n",
        "        self.y = np.array(self.y)\n",
        "\n",
        "    def on_epoch_end(self, epoch, logs=None):\n",
        "\n",
        "        # en `scores` iremos guardando la perplejidad promedio por batch\n",
        "        scores = []\n",
        "\n",
        "        # predecimos por lotes para evitar problemas de memoria\n",
        "        for i in range(0, len(self.X), self.batch_size):\n",
        "            x_batch = self.X[i:i+self.batch_size]\n",
        "            y_batch = self.y[i:i+self.batch_size]\n",
        "\n",
        "            predictions = self.model.predict(x_batch, verbose=0)\n",
        "\n",
        "            # en `probs` iremos guardando las probabilidades de los términos target\n",
        "            probs = predictions[np.arange(len(y_batch)), -1, y_batch]\n",
        "\n",
        "            # calculamos la perplejidad por medio de logaritmos\n",
        "            log_probs = np.log(probs + 1e-10)  # evitamos log(0)\n",
        "            perplexity = np.exp(-np.mean(log_probs))\n",
        "\n",
        "            scores.append(perplexity)\n",
        "\n",
        "        # promediamos todos los scores e imprimimos el valor promedio\n",
        "        current_score = np.mean(scores)\n",
        "        self.history_ppl.append(current_score)\n",
        "        print(f'\\n mean perplexity: {current_score} \\n')\n",
        "\n",
        "        # chequeamos si tenemos que detener el entrenamiento\n",
        "        if current_score < self.min_score:\n",
        "            self.min_score = current_score\n",
        "            self.model.save(\"my_model.keras\")\n",
        "            print(\"Saved new model!\")\n",
        "            self.patience_counter = 0\n",
        "        else:\n",
        "            self.patience_counter += 1\n",
        "            if self.patience_counter == self.patience:\n",
        "                print(\"Stopping training...\")\n",
        "                self.model.stop_training = True\n"
      ],
      "metadata": {
        "id": "Fevn6oO-r6u1"
      },
      "id": "Fevn6oO-r6u1",
      "execution_count": 16,
      "outputs": []
    },
    {
      "cell_type": "markdown",
      "source": [
        "Para calcular la perplejidad sobre el conjunto de validación, se implementó un callback personalizado. La primera versión realizaba predicciones sobre todo el conjunto de validación a la vez, lo que generaba un alto consumo de memoria. Para solucionar esto, se optimizó el callback dividiendo el conjunto de validación en lotes (batch_size) y procesando cada lote por separado, reduciendo significativamente el uso de memoria, ya que previamente se llenaba la memoria de colab"
      ],
      "metadata": {
        "id": "-Iv5bzGst1sU"
      },
      "id": "-Iv5bzGst1sU"
    },
    {
      "cell_type": "code",
      "source": [
        "# from tensorflow import keras\n",
        "\n",
        "# class PplCallback(keras.callbacks.Callback):\n",
        "\n",
        "#     '''\n",
        "#     Este callback es una solución ad-hoc para calcular al final de cada epoch de\n",
        "#     entrenamiento la métrica de Perplejidad sobre un conjunto de datos de validación.\n",
        "#     La perplejidad es una métrica cuantitativa para evaluar la calidad de la generación de secuencias.\n",
        "#     Además implementa la finalización del entrenamiento (Early Stopping)\n",
        "#     si la perplejidad no mejora después de `patience` epochs.\n",
        "#     '''\n",
        "\n",
        "#     def __init__(self, val_data, history_ppl,patience=5):\n",
        "#       # El callback lo inicializamos con secuencias de validación sobre las cuales\n",
        "#       # mediremos la perplejidad\n",
        "#       self.val_data = val_data\n",
        "\n",
        "#       self.target = []\n",
        "#       self.padded = []\n",
        "\n",
        "#       count = 0\n",
        "#       self.info = []\n",
        "#       self.min_score = np.inf\n",
        "#       self.patience_counter = 0\n",
        "#       self.patience = patience\n",
        "\n",
        "#       # nos movemos en todas las secuencias de los datos de validación\n",
        "#       for seq in self.val_data:\n",
        "\n",
        "#         len_seq = len(seq)\n",
        "#         # armamos todas las subsecuencias\n",
        "#         subseq = [seq[:i] for i in range(1,len_seq)]\n",
        "#         self.target.extend([seq[i] for i in range(1,len_seq)])\n",
        "\n",
        "#         if len(subseq)!=0:\n",
        "\n",
        "#           self.padded.append(pad_sequences(subseq, maxlen=max_context_size, padding='pre'))\n",
        "\n",
        "#           self.info.append((count,count+len_seq))\n",
        "#           count += len_seq\n",
        "\n",
        "#       self.padded = np.vstack(self.padded)\n",
        "\n",
        "\n",
        "#     def on_epoch_end(self, epoch, logs=None):\n",
        "\n",
        "#         # en `scores` iremos guardando la perplejidad de cada secuencia\n",
        "#         scores = []\n",
        "\n",
        "#         predictions = self.model.predict(self.padded,verbose=0)\n",
        "\n",
        "#         # para cada secuencia de validación\n",
        "#         for start,end in self.info:\n",
        "\n",
        "#           # en `probs` iremos guardando las probabilidades de los términos target\n",
        "#           probs = [predictions[idx_seq,-1,idx_vocab] for idx_seq, idx_vocab in zip(range(start,end),self.target[start:end])]\n",
        "\n",
        "#           # calculamos la perplejidad por medio de logaritmos\n",
        "#           scores.append(np.exp(-np.sum(np.log(probs))/(end-start)))\n",
        "\n",
        "#         # promediamos todos los scores e imprimimos el valor promedio\n",
        "#         current_score = np.mean(scores)\n",
        "#         history_ppl.append(current_score)\n",
        "#         print(f'\\n mean perplexity: {current_score} \\n')\n",
        "\n",
        "#         # chequeamos si tenemos que detener el entrenamiento\n",
        "#         if current_score < self.min_score:\n",
        "#           self.min_score = current_score\n",
        "#           self.model.save(\"my_model.keras\")\n",
        "#           print(\"Saved new model!\")\n",
        "#           self.patience_counter = 0\n",
        "#         else:\n",
        "#           self.patience_counter += 1\n",
        "#           if self.patience_counter == self.patience:\n",
        "#             print(\"Stopping training...\")\n",
        "#             self.model.stop_training = True"
      ],
      "metadata": {
        "id": "8JJkt3lAk74y"
      },
      "id": "8JJkt3lAk74y",
      "execution_count": 14,
      "outputs": []
    },
    {
      "cell_type": "markdown",
      "id": "2c0ba6ec",
      "metadata": {
        "id": "2c0ba6ec"
      },
      "source": [
        "### Entrenamiento\n"
      ]
    },
    {
      "cell_type": "markdown",
      "id": "22378cad",
      "metadata": {
        "id": "22378cad"
      },
      "source": [
        "### Definir el modelo"
      ]
    },
    {
      "metadata": {
        "colab": {
          "base_uri": "https://localhost:8080/"
        },
        "id": "b669b40864d8714d",
        "outputId": "51d91451-d6bb-4f49-c995-4b30d857fb32"
      },
      "cell_type": "code",
      "outputs": [
        {
          "output_type": "stream",
          "name": "stdout",
          "text": [
            "Epoch 1/20\n",
            "\u001b[1m2200/2200\u001b[0m \u001b[32m━━━━━━━━━━━━━━━━━━━━\u001b[0m\u001b[37m\u001b[0m \u001b[1m0s\u001b[0m 16ms/step - loss: 2.3830\n",
            " mean perplexity: 5.164623737335205 \n",
            "\n",
            "Saved new model!\n",
            "\u001b[1m2200/2200\u001b[0m \u001b[32m━━━━━━━━━━━━━━━━━━━━\u001b[0m\u001b[37m\u001b[0m \u001b[1m118s\u001b[0m 49ms/step - loss: 2.3829\n",
            "Epoch 2/20\n",
            "\u001b[1m2199/2200\u001b[0m \u001b[32m━━━━━━━━━━━━━━━━━━━\u001b[0m\u001b[37m━\u001b[0m \u001b[1m0s\u001b[0m 15ms/step - loss: 1.8312\n",
            " mean perplexity: 4.536832809448242 \n",
            "\n",
            "Saved new model!\n",
            "\u001b[1m2200/2200\u001b[0m \u001b[32m━━━━━━━━━━━━━━━━━━━━\u001b[0m\u001b[37m\u001b[0m \u001b[1m126s\u001b[0m 44ms/step - loss: 1.8312\n",
            "Epoch 3/20\n",
            "\u001b[1m2198/2200\u001b[0m \u001b[32m━━━━━━━━━━━━━━━━━━━\u001b[0m\u001b[37m━\u001b[0m \u001b[1m0s\u001b[0m 14ms/step - loss: 1.7443\n",
            " mean perplexity: 4.332080364227295 \n",
            "\n",
            "Saved new model!\n",
            "\u001b[1m2200/2200\u001b[0m \u001b[32m━━━━━━━━━━━━━━━━━━━━\u001b[0m\u001b[37m\u001b[0m \u001b[1m142s\u001b[0m 44ms/step - loss: 1.7443\n",
            "Epoch 4/20\n",
            "\u001b[1m2198/2200\u001b[0m \u001b[32m━━━━━━━━━━━━━━━━━━━\u001b[0m\u001b[37m━\u001b[0m \u001b[1m0s\u001b[0m 15ms/step - loss: 1.7080\n",
            " mean perplexity: 4.218387126922607 \n",
            "\n",
            "Saved new model!\n",
            "\u001b[1m2200/2200\u001b[0m \u001b[32m━━━━━━━━━━━━━━━━━━━━\u001b[0m\u001b[37m\u001b[0m \u001b[1m141s\u001b[0m 44ms/step - loss: 1.7080\n",
            "Epoch 5/20\n",
            "\u001b[1m2199/2200\u001b[0m \u001b[32m━━━━━━━━━━━━━━━━━━━\u001b[0m\u001b[37m━\u001b[0m \u001b[1m0s\u001b[0m 15ms/step - loss: 1.6868\n",
            " mean perplexity: 4.139955043792725 \n",
            "\n",
            "Saved new model!\n",
            "\u001b[1m2200/2200\u001b[0m \u001b[32m━━━━━━━━━━━━━━━━━━━━\u001b[0m\u001b[37m\u001b[0m \u001b[1m140s\u001b[0m 43ms/step - loss: 1.6868\n",
            "Epoch 6/20\n",
            "\u001b[1m2197/2200\u001b[0m \u001b[32m━━━━━━━━━━━━━━━━━━━\u001b[0m\u001b[37m━\u001b[0m \u001b[1m0s\u001b[0m 15ms/step - loss: 1.6726\n",
            " mean perplexity: 4.087104797363281 \n",
            "\n",
            "Saved new model!\n",
            "\u001b[1m2200/2200\u001b[0m \u001b[32m━━━━━━━━━━━━━━━━━━━━\u001b[0m\u001b[37m\u001b[0m \u001b[1m96s\u001b[0m 44ms/step - loss: 1.6725\n",
            "Epoch 7/20\n",
            "\u001b[1m2198/2200\u001b[0m \u001b[32m━━━━━━━━━━━━━━━━━━━\u001b[0m\u001b[37m━\u001b[0m \u001b[1m0s\u001b[0m 15ms/step - loss: 1.6618\n",
            " mean perplexity: 4.060659885406494 \n",
            "\n",
            "Saved new model!\n",
            "\u001b[1m2200/2200\u001b[0m \u001b[32m━━━━━━━━━━━━━━━━━━━━\u001b[0m\u001b[37m\u001b[0m \u001b[1m143s\u001b[0m 44ms/step - loss: 1.6618\n",
            "Epoch 8/20\n",
            "\u001b[1m2198/2200\u001b[0m \u001b[32m━━━━━━━━━━━━━━━━━━━\u001b[0m\u001b[37m━\u001b[0m \u001b[1m0s\u001b[0m 15ms/step - loss: 1.6537\n",
            " mean perplexity: 4.0440287590026855 \n",
            "\n",
            "Saved new model!\n",
            "\u001b[1m2200/2200\u001b[0m \u001b[32m━━━━━━━━━━━━━━━━━━━━\u001b[0m\u001b[37m\u001b[0m \u001b[1m142s\u001b[0m 44ms/step - loss: 1.6537\n",
            "Epoch 9/20\n",
            "\u001b[1m2197/2200\u001b[0m \u001b[32m━━━━━━━━━━━━━━━━━━━\u001b[0m\u001b[37m━\u001b[0m \u001b[1m0s\u001b[0m 15ms/step - loss: 1.6460\n",
            " mean perplexity: 3.9907708168029785 \n",
            "\n",
            "Saved new model!\n",
            "\u001b[1m2200/2200\u001b[0m \u001b[32m━━━━━━━━━━━━━━━━━━━━\u001b[0m\u001b[37m\u001b[0m \u001b[1m97s\u001b[0m 44ms/step - loss: 1.6460\n",
            "Epoch 10/20\n",
            "\u001b[1m2198/2200\u001b[0m \u001b[32m━━━━━━━━━━━━━━━━━━━\u001b[0m\u001b[37m━\u001b[0m \u001b[1m0s\u001b[0m 15ms/step - loss: 1.6410\n",
            " mean perplexity: 4.014811992645264 \n",
            "\n",
            "\u001b[1m2200/2200\u001b[0m \u001b[32m━━━━━━━━━━━━━━━━━━━━\u001b[0m\u001b[37m\u001b[0m \u001b[1m140s\u001b[0m 43ms/step - loss: 1.6410\n",
            "Epoch 11/20\n",
            "\u001b[1m2198/2200\u001b[0m \u001b[32m━━━━━━━━━━━━━━━━━━━\u001b[0m\u001b[37m━\u001b[0m \u001b[1m0s\u001b[0m 15ms/step - loss: 1.6360\n",
            " mean perplexity: 3.978558301925659 \n",
            "\n",
            "Saved new model!\n",
            "\u001b[1m2200/2200\u001b[0m \u001b[32m━━━━━━━━━━━━━━━━━━━━\u001b[0m\u001b[37m\u001b[0m \u001b[1m143s\u001b[0m 44ms/step - loss: 1.6359\n",
            "Epoch 12/20\n",
            "\u001b[1m2199/2200\u001b[0m \u001b[32m━━━━━━━━━━━━━━━━━━━\u001b[0m\u001b[37m━\u001b[0m \u001b[1m0s\u001b[0m 15ms/step - loss: 1.6321\n",
            " mean perplexity: 3.9451866149902344 \n",
            "\n",
            "Saved new model!\n",
            "\u001b[1m2200/2200\u001b[0m \u001b[32m━━━━━━━━━━━━━━━━━━━━\u001b[0m\u001b[37m\u001b[0m \u001b[1m141s\u001b[0m 44ms/step - loss: 1.6321\n",
            "Epoch 13/20\n",
            "\u001b[1m2198/2200\u001b[0m \u001b[32m━━━━━━━━━━━━━━━━━━━\u001b[0m\u001b[37m━\u001b[0m \u001b[1m0s\u001b[0m 15ms/step - loss: 1.6300\n",
            " mean perplexity: 3.9312527179718018 \n",
            "\n",
            "Saved new model!\n",
            "\u001b[1m2200/2200\u001b[0m \u001b[32m━━━━━━━━━━━━━━━━━━━━\u001b[0m\u001b[37m\u001b[0m \u001b[1m97s\u001b[0m 44ms/step - loss: 1.6300\n",
            "Epoch 14/20\n",
            "\u001b[1m2197/2200\u001b[0m \u001b[32m━━━━━━━━━━━━━━━━━━━\u001b[0m\u001b[37m━\u001b[0m \u001b[1m0s\u001b[0m 15ms/step - loss: 1.6257\n",
            " mean perplexity: 3.921957015991211 \n",
            "\n",
            "Saved new model!\n",
            "\u001b[1m2200/2200\u001b[0m \u001b[32m━━━━━━━━━━━━━━━━━━━━\u001b[0m\u001b[37m\u001b[0m \u001b[1m142s\u001b[0m 44ms/step - loss: 1.6257\n",
            "Epoch 15/20\n",
            "\u001b[1m2200/2200\u001b[0m \u001b[32m━━━━━━━━━━━━━━━━━━━━\u001b[0m\u001b[37m\u001b[0m \u001b[1m0s\u001b[0m 15ms/step - loss: 1.6235\n",
            " mean perplexity: 3.927532434463501 \n",
            "\n",
            "\u001b[1m2200/2200\u001b[0m \u001b[32m━━━━━━━━━━━━━━━━━━━━\u001b[0m\u001b[37m\u001b[0m \u001b[1m97s\u001b[0m 44ms/step - loss: 1.6235\n",
            "Epoch 16/20\n",
            "\u001b[1m2199/2200\u001b[0m \u001b[32m━━━━━━━━━━━━━━━━━━━\u001b[0m\u001b[37m━\u001b[0m \u001b[1m0s\u001b[0m 15ms/step - loss: 1.6211\n",
            " mean perplexity: 3.9153451919555664 \n",
            "\n",
            "Saved new model!\n",
            "\u001b[1m2200/2200\u001b[0m \u001b[32m━━━━━━━━━━━━━━━━━━━━\u001b[0m\u001b[37m\u001b[0m \u001b[1m145s\u001b[0m 46ms/step - loss: 1.6211\n",
            "Epoch 17/20\n",
            "\u001b[1m2199/2200\u001b[0m \u001b[32m━━━━━━━━━━━━━━━━━━━\u001b[0m\u001b[37m━\u001b[0m \u001b[1m0s\u001b[0m 15ms/step - loss: 1.6188\n",
            " mean perplexity: 3.889050245285034 \n",
            "\n",
            "Saved new model!\n",
            "\u001b[1m2200/2200\u001b[0m \u001b[32m━━━━━━━━━━━━━━━━━━━━\u001b[0m\u001b[37m\u001b[0m \u001b[1m148s\u001b[0m 48ms/step - loss: 1.6188\n",
            "Epoch 18/20\n",
            "\u001b[1m2197/2200\u001b[0m \u001b[32m━━━━━━━━━━━━━━━━━━━\u001b[0m\u001b[37m━\u001b[0m \u001b[1m0s\u001b[0m 15ms/step - loss: 1.6162\n",
            " mean perplexity: 3.891242504119873 \n",
            "\n",
            "\u001b[1m2200/2200\u001b[0m \u001b[32m━━━━━━━━━━━━━━━━━━━━\u001b[0m\u001b[37m\u001b[0m \u001b[1m139s\u001b[0m 47ms/step - loss: 1.6162\n",
            "Epoch 19/20\n",
            "\u001b[1m2199/2200\u001b[0m \u001b[32m━━━━━━━━━━━━━━━━━━━\u001b[0m\u001b[37m━\u001b[0m \u001b[1m0s\u001b[0m 15ms/step - loss: 1.6143\n",
            " mean perplexity: 3.9001691341400146 \n",
            "\n",
            "\u001b[1m2200/2200\u001b[0m \u001b[32m━━━━━━━━━━━━━━━━━━━━\u001b[0m\u001b[37m\u001b[0m \u001b[1m138s\u001b[0m 45ms/step - loss: 1.6143\n",
            "Epoch 20/20\n",
            "\u001b[1m2198/2200\u001b[0m \u001b[32m━━━━━━━━━━━━━━━━━━━\u001b[0m\u001b[37m━\u001b[0m \u001b[1m0s\u001b[0m 15ms/step - loss: 1.6135\n",
            " mean perplexity: 3.8834965229034424 \n",
            "\n",
            "Saved new model!\n",
            "\u001b[1m2200/2200\u001b[0m \u001b[32m━━━━━━━━━━━━━━━━━━━━\u001b[0m\u001b[37m\u001b[0m \u001b[1m140s\u001b[0m 45ms/step - loss: 1.6135\n"
          ]
        }
      ],
      "execution_count": 19,
      "source": [
        "# fiteamos, nótese el agregado del callback con su inicialización. El batch_size lo podemos seleccionar a mano\n",
        "# en general, lo mejor es escoger el batch más grande posible que minimice el tiempo de cada época.\n",
        "# En la variable `history_ppl` se guardarán los valores de perplejidad para cada época.\n",
        "history_ppl = []\n",
        "hist = model.fit(X, y, epochs=20, callbacks=[PplCallback(tokenized_sentences_val, history_ppl, max_context_size=max_context_size)], batch_size=256)"
      ],
      "id": "b669b40864d8714d"
    },
    {
      "metadata": {
        "colab": {
          "base_uri": "https://localhost:8080/",
          "height": 430
        },
        "id": "8a338e33f0a5c4ab",
        "outputId": "a3ce75ac-666c-4a00-8052-b2d8fd2fbc9e"
      },
      "cell_type": "code",
      "outputs": [
        {
          "output_type": "display_data",
          "data": {
            "text/plain": [
              "<Figure size 640x480 with 1 Axes>"
            ],
            "image/png": "[encoded data removed]"
          },
          "metadata": {}
        }
      ],
      "execution_count": 20,
      "source": [
        "import matplotlib.pyplot as plt\n",
        "import seaborn as sns\n",
        "\n",
        "# Entrenamiento\n",
        "epoch_count = range(1, len(history_ppl) + 1)\n",
        "sns.lineplot(x=epoch_count,  y=history_ppl)\n",
        "plt.show()"
      ],
      "id": "8a338e33f0a5c4ab"
    },
    {
      "metadata": {
        "id": "1f8dd1dd05cf1c27"
      },
      "cell_type": "code",
      "outputs": [],
      "execution_count": 24,
      "source": [
        "from tensorflow import keras\n",
        "# Cargamos el mejor modelo guardado del entrenamiento para hacer inferencia\n",
        "model = keras.models.load_model('my_model.keras')"
      ],
      "id": "1f8dd1dd05cf1c27"
    },
    {
      "metadata": {
        "id": "d6f66ecb9c75984c"
      },
      "cell_type": "markdown",
      "source": [
        "### Prediccion del proximo caracter"
      ],
      "id": "d6f66ecb9c75984c"
    },
    {
      "metadata": {
        "colab": {
          "base_uri": "https://localhost:8080/"
        },
        "id": "2c1faa7f8414ef7c",
        "outputId": "a2ab7a05-62f7-4d94-c528-781eab416190"
      },
      "cell_type": "code",
      "outputs": [
        {
          "output_type": "stream",
          "name": "stdout",
          "text": [
            "\u001b[2K   \u001b[90m━━━━━━━━━━━━━━━━━━━━━━━━━━━━━━━━━━━━━━━━\u001b[0m \u001b[32m46.5/46.5 MB\u001b[0m \u001b[31m24.7 MB/s\u001b[0m eta \u001b[36m0:00:00\u001b[0m\n",
            "\u001b[2K   \u001b[90m━━━━━━━━━━━━━━━━━━━━━━━━━━━━━━━━━━━━━━━━\u001b[0m \u001b[32m322.2/322.2 kB\u001b[0m \u001b[31m24.1 MB/s\u001b[0m eta \u001b[36m0:00:00\u001b[0m\n",
            "\u001b[2K   \u001b[90m━━━━━━━━━━━━━━━━━━━━━━━━━━━━━━━━━━━━━━━━\u001b[0m \u001b[32m95.2/95.2 kB\u001b[0m \u001b[31m8.5 MB/s\u001b[0m eta \u001b[36m0:00:00\u001b[0m\n",
            "\u001b[2K   \u001b[90m━━━━━━━━━━━━━━━━━━━━━━━━━━━━━━━━━━━━━━━━\u001b[0m \u001b[32m11.3/11.3 MB\u001b[0m \u001b[31m117.6 MB/s\u001b[0m eta \u001b[36m0:00:00\u001b[0m\n",
            "\u001b[2K   \u001b[90m━━━━━━━━━━━━━━━━━━━━━━━━━━━━━━━━━━━━━━━━\u001b[0m \u001b[32m72.0/72.0 kB\u001b[0m \u001b[31m6.4 MB/s\u001b[0m eta \u001b[36m0:00:00\u001b[0m\n",
            "\u001b[2K   \u001b[90m━━━━━━━━━━━━━━━━━━━━━━━━━━━━━━━━━━━━━━━━\u001b[0m \u001b[32m62.3/62.3 kB\u001b[0m \u001b[31m5.4 MB/s\u001b[0m eta \u001b[36m0:00:00\u001b[0m\n",
            "\u001b[?25h"
          ]
        }
      ],
      "execution_count": 25,
      "source": [
        "# Se puede usar gradio para probar el modelo\n",
        "# Gradio es una herramienta muy útil para crear interfaces para ensayar modelos\n",
        "# https://gradio.app/\n",
        "\n",
        "!pip install -q gradio"
      ],
      "id": "2c1faa7f8414ef7c"
    },
    {
      "metadata": {
        "colab": {
          "base_uri": "https://localhost:8080/",
          "height": 773
        },
        "id": "3f2a9152bebe77b3",
        "outputId": "7dcda743-b624-4969-a55e-32f71a73fee2"
      },
      "cell_type": "code",
      "outputs": [
        {
          "output_type": "stream",
          "name": "stdout",
          "text": [
            "Running Gradio in a Colab notebook requires sharing enabled. Automatically setting `share=True` (you can turn this off by setting `share=False` in `launch()` explicitly).\n",
            "\n",
            "Colab notebook detected. This cell will run indefinitely so that you can see errors and logs. To turn off, set debug=False in launch().\n",
            "* Running on public URL: https://97613f13315bf7e817.gradio.live\n",
            "\n",
            "This share link expires in 72 hours. For free permanent hosting and GPU upgrades, run `gradio deploy` from the terminal in the working directory to deploy to Hugging Face Spaces (https://huggingface.co/spaces)\n"
          ]
        },
        {
          "output_type": "display_data",
          "data": {
            "text/plain": [
              "<IPython.core.display.HTML object>"
            ],
            "text/html": [
              "<div><iframe src=\"https://97613f13315bf7e817.gradio.live\" width=\"100%\" height=\"500\" allow=\"autoplay; camera; microphone; clipboard-read; clipboard-write;\" frameborder=\"0\" allowfullscreen></iframe></div>"
            ]
          },
          "metadata": {}
        },
        {
          "output_type": "stream",
          "name": "stdout",
          "text": [
            "\u001b[1m1/1\u001b[0m \u001b[32m━━━━━━━━━━━━━━━━━━━━\u001b[0m\u001b[37m\u001b[0m \u001b[1m2s\u001b[0m 2s/step\n",
            "\u001b[1m1/1\u001b[0m \u001b[32m━━━━━━━━━━━━━━━━━━━━\u001b[0m\u001b[37m\u001b[0m \u001b[1m0s\u001b[0m 33ms/step\n",
            "\u001b[1m1/1\u001b[0m \u001b[32m━━━━━━━━━━━━━━━━━━━━\u001b[0m\u001b[37m\u001b[0m \u001b[1m0s\u001b[0m 34ms/step\n",
            "Created dataset file at: .gradio/flagged/dataset1.csv\n",
            "\u001b[1m1/1\u001b[0m \u001b[32m━━━━━━━━━━━━━━━━━━━━\u001b[0m\u001b[37m\u001b[0m \u001b[1m0s\u001b[0m 35ms/step\n",
            "Keyboard interruption in main thread... closing server.\n",
            "Killing tunnel 127.0.0.1:7860 <> https://97613f13315bf7e817.gradio.live\n"
          ]
        },
        {
          "output_type": "execute_result",
          "data": {
            "text/plain": []
          },
          "metadata": {},
          "execution_count": 26
        }
      ],
      "execution_count": 26,
      "source": [
        "import gradio as gr\n",
        "\n",
        "def model_response(human_text):\n",
        "\n",
        "    # Encodeamos\n",
        "    encoded = [char2idx[ch] for ch in human_text.lower() ]\n",
        "    # Si tienen distinto largo\n",
        "    encoded = pad_sequences([encoded], maxlen=max_context_size, padding='pre')\n",
        "\n",
        "    # Predicción softmax\n",
        "    y_hat = np.argmax(model.predict(encoded)[0,-1,:])\n",
        "\n",
        "\n",
        "    # Debemos buscar en el vocabulario el caracter\n",
        "    # que corresopnde al indice (y_hat) predicho por le modelo\n",
        "    out_word = ''\n",
        "    out_word = idx2char[y_hat]\n",
        "\n",
        "    # Agrego la palabra a la frase predicha\n",
        "    return human_text + out_word\n",
        "\n",
        "iface = gr.Interface(\n",
        "    fn=model_response,\n",
        "    inputs=[\"textbox\"],\n",
        "    outputs=\"text\")\n",
        "\n",
        "iface.launch(debug=True)"
      ],
      "id": "3f2a9152bebe77b3"
    },
    {
      "metadata": {
        "id": "c9a63c55346ddbc1"
      },
      "cell_type": "markdown",
      "source": [
        "### Generacion de secuencias"
      ],
      "id": "c9a63c55346ddbc1"
    },
    {
      "metadata": {
        "id": "4879a0cb20b18369"
      },
      "cell_type": "code",
      "outputs": [],
      "execution_count": 27,
      "source": [
        "def generate_seq(model, seed_text, max_length, n_words):\n",
        "    \"\"\"\n",
        "        Exec model sequence prediction\n",
        "\n",
        "        Args:\n",
        "            model (keras): modelo entrenado\n",
        "            seed_text (string): texto de entrada (input_seq)\n",
        "            max_length (int): máxima longitud de la sequencia de entrada\n",
        "            n_words (int): números de caracteres a agregar a la sequencia de entrada\n",
        "        returns:\n",
        "            output_text (string): sentencia con las \"n_words\" agregadas\n",
        "    \"\"\"\n",
        "    output_text = seed_text\n",
        "\t# generate a fixed number of words\n",
        "    for _ in range(n_words):\n",
        "\t\t# Encodeamos\n",
        "        encoded = [char2idx[ch] for ch in output_text.lower() ]\n",
        "\t\t# Si tienen distinto largo\n",
        "        encoded = pad_sequences([encoded], maxlen=max_length, padding='pre')\n",
        "\n",
        "\t\t# Predicción softmax\n",
        "        y_hat = np.argmax(model.predict(encoded,verbose=0)[0,-1,:])\n",
        "\t\t# Vamos concatenando las predicciones\n",
        "        out_word = ''\n",
        "\n",
        "        out_word = idx2char[y_hat]\n",
        "\n",
        "\t\t# Agrego las palabras a la frase predicha\n",
        "        output_text += out_word\n",
        "    return output_text\n"
      ],
      "id": "4879a0cb20b18369"
    },
    {
      "metadata": {
        "colab": {
          "base_uri": "https://localhost:8080/",
          "height": 35
        },
        "id": "d237c87428b5b7d1",
        "outputId": "c30a8d1a-8708-45ee-ad9c-8818f4c7e59a"
      },
      "cell_type": "code",
      "outputs": [
        {
          "output_type": "execute_result",
          "data": {
            "text/plain": [
              "'Hermione was still down t'"
            ],
            "application/vnd.google.colaboratory.intrinsic+json": {
              "type": "string"
            }
          },
          "metadata": {},
          "execution_count": 41
        }
      ],
      "execution_count": 41,
      "source": [
        "input_text='Hermi'\n",
        "\n",
        "generate_seq(model, input_text, max_length=max_context_size, n_words=20)"
      ],
      "id": "d237c87428b5b7d1"
    },
    {
      "cell_type": "markdown",
      "source": [
        "### Beam search y muestreo aleatorio\n"
      ],
      "metadata": {
        "id": "XWCmWLfW5DFy"
      },
      "id": "XWCmWLfW5DFy"
    },
    {
      "cell_type": "code",
      "source": [
        "# funcionalidades para hacer encoding y decoding\n",
        "\n",
        "def encode(text,max_length=max_context_size):\n",
        "\n",
        "    encoded = [char2idx[ch] for ch in text]\n",
        "    encoded = pad_sequences([encoded], maxlen=max_length, padding='pre')\n",
        "\n",
        "    return encoded\n",
        "\n",
        "def decode(seq):\n",
        "    return ''.join([idx2char[ch] for ch in seq])"
      ],
      "metadata": {
        "id": "6MXGc-Y95Fg9"
      },
      "id": "6MXGc-Y95Fg9",
      "execution_count": 42,
      "outputs": []
    },
    {
      "cell_type": "code",
      "source": [
        "from scipy.special import softmax\n",
        "\n",
        "# función que selecciona candidatos para el beam search\n",
        "def select_candidates(pred,num_beams,vocab_size,history_probs,history_tokens,temp,mode):\n",
        "\n",
        "  # colectar todas las probabilidades para la siguiente búsqueda\n",
        "  pred_large = []\n",
        "\n",
        "  for idx,pp in enumerate(pred):\n",
        "    pred_large.extend(np.log(pp+1E-10)+history_probs[idx])\n",
        "\n",
        "  pred_large = np.array(pred_large)\n",
        "\n",
        "  # criterio de selección\n",
        "  if mode == 'det':\n",
        "    idx_select = np.argsort(pred_large)[::-1][:num_beams] # beam search determinista\n",
        "  elif mode == 'sto':\n",
        "    idx_select = np.random.choice(np.arange(pred_large.shape[0]), num_beams, p=softmax(pred_large/temp)) # beam search con muestreo aleatorio\n",
        "  else:\n",
        "    raise ValueError(f'Wrong selection mode. {mode} was given. det and sto are supported.')\n",
        "\n",
        "  # traducir a índices de token en el vocabulario\n",
        "  new_history_tokens = np.concatenate((np.array(history_tokens)[idx_select//vocab_size],\n",
        "                        np.array([idx_select%vocab_size]).T),\n",
        "                      axis=1)\n",
        "\n",
        "  # devolver el producto de las probabilidades (log) y la secuencia de tokens seleccionados\n",
        "  return pred_large[idx_select.astype(int)], new_history_tokens.astype(int)\n",
        "\n",
        "\n",
        "def beam_search(model,num_beams,num_words,input,temp=1,mode='det'):\n",
        "\n",
        "    # first iteration\n",
        "\n",
        "    # encode\n",
        "    encoded = encode(input)\n",
        "\n",
        "    # first prediction\n",
        "    y_hat = model.predict(encoded,verbose=0)[0,-1,:]\n",
        "\n",
        "    # get vocabulary size\n",
        "    vocab_size = y_hat.shape[0]\n",
        "\n",
        "    # initialize history\n",
        "    history_probs = [0]*num_beams\n",
        "    history_tokens = [encoded[0]]*num_beams\n",
        "\n",
        "    # select num_beams candidates\n",
        "    history_probs, history_tokens = select_candidates([y_hat],\n",
        "                                        num_beams,\n",
        "                                        vocab_size,\n",
        "                                        history_probs,\n",
        "                                        history_tokens,\n",
        "                                        temp,\n",
        "                                        mode)\n",
        "\n",
        "    # beam search loop\n",
        "    for i in range(num_words-1):\n",
        "\n",
        "      preds = []\n",
        "\n",
        "      for hist in history_tokens:\n",
        "\n",
        "        # actualizar secuencia de tokens\n",
        "        input_update = np.array([hist[i+1:]]).copy()\n",
        "\n",
        "        # predicción\n",
        "        y_hat = model.predict(input_update,verbose=0)[0,-1,:]\n",
        "\n",
        "        preds.append(y_hat)\n",
        "\n",
        "      history_probs, history_tokens = select_candidates(preds,\n",
        "                                                        num_beams,\n",
        "                                                        vocab_size,\n",
        "                                                        history_probs,\n",
        "                                                        history_tokens,\n",
        "                                                        temp,\n",
        "                                                        mode)\n",
        "\n",
        "    return history_tokens[:,-(len(input)+num_words):]"
      ],
      "metadata": {
        "id": "fsp8duev5H7J"
      },
      "id": "fsp8duev5H7J",
      "execution_count": 43,
      "outputs": []
    },
    {
      "cell_type": "code",
      "source": [
        "# predicción con beam search\n",
        "salidas = beam_search(model,num_beams=10,num_words=35,input=\"Harry Potter\")"
      ],
      "metadata": {
        "id": "02nBUn7Q5Li5"
      },
      "id": "02nBUn7Q5Li5",
      "execution_count": 74,
      "outputs": []
    },
    {
      "cell_type": "code",
      "source": [
        "salidas[0]"
      ],
      "metadata": {
        "id": "ojblSuoR5PIW",
        "outputId": "49f2dcd3-6df0-4f6d-c6c9-3187be522bf0",
        "colab": {
          "base_uri": "https://localhost:8080/"
        }
      },
      "id": "ojblSuoR5PIW",
      "execution_count": 75,
      "outputs": [
        {
          "output_type": "execute_result",
          "data": {
            "text/plain": [
              "array([25,  3, 23, 23, 31, 58, 26, 54, 36, 36, 29, 23, 30, 58, 65, 40, 54,\n",
              "       58, 65,  3, 19, 58, 71, 54, 54, 51, 55, 38,  7, 58,  2, 54, 23, 58,\n",
              "       36, 40, 29, 58, 13, 54,  4,  4, 54, 38, 58, 23, 54])"
            ]
          },
          "metadata": {},
          "execution_count": 75
        }
      ]
    },
    {
      "cell_type": "code",
      "source": [
        "# veamos las salidas\n",
        "decode(salidas[0])"
      ],
      "metadata": {
        "id": "iwvQ20Mr5PdL",
        "outputId": "4ab6a9cf-f920-439d-8a7d-da3439f202bd",
        "colab": {
          "base_uri": "https://localhost:8080/",
          "height": 35
        }
      },
      "id": "iwvQ20Mr5PdL",
      "execution_count": 76,
      "outputs": [
        {
          "output_type": "execute_result",
          "data": {
            "text/plain": [
              "'Harry Potter, who was looking for the common ro'"
            ],
            "application/vnd.google.colaboratory.intrinsic+json": {
              "type": "string"
            }
          },
          "metadata": {},
          "execution_count": 76
        }
      ]
    }
  ],
  "metadata": {
    "kernelspec": {
      "name": "python3",
      "display_name": "Python 3"
    },
    "colab": {
      "provenance": [],
      "gpuType": "T4",
      "include_colab_link": true
    },
    "accelerator": "GPU"
  },
  "nbformat": 4,
  "nbformat_minor": 5
}