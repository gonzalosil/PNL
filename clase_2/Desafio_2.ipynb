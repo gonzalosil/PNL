{
 "cells": [
  {
   "metadata": {},
   "cell_type": "markdown",
   "source": [
    "# Word2Vec con \"Harry Potter and the Prisoner of Azkaban\"\n",
    "Este análisis tiene los siguientes objetivos:\n",
    "- Crear embeddings Word2Vec usando Gensim.\n",
    "- Probar términos de interés y explicar similitudes.\n",
    "- Graficar en 2D los embeddings seleccionados.\n",
    "- Sacar conclusiones sobre las relaciones semánticas.\n"
   ],
   "id": "7a24cddf19e2191d"
  },
  {
   "metadata": {},
   "cell_type": "markdown",
   "source": "## 2. Importar librerias",
   "id": "59d1ba86af506f4a"
  },
  {
   "metadata": {
    "ExecuteTime": {
     "end_time": "2025-04-03T00:22:37.206110Z",
     "start_time": "2025-04-03T00:22:35.903666Z"
    }
   },
   "cell_type": "code",
   "source": [
    "import pandas as pd\n",
    "from gensim.models import Word2Vec\n",
    "from gensim.utils import simple_preprocess\n",
    "from sklearn.decomposition import PCA\n",
    "import matplotlib.pyplot as plt\n"
   ],
   "id": "13fd2624c84b51b9",
   "outputs": [],
   "execution_count": 1
  },
  {
   "metadata": {},
   "cell_type": "markdown",
   "source": "## 3. Cargar el libro",
   "id": "ee5b480cef79fe07"
  },
  {
   "metadata": {
    "ExecuteTime": {
     "end_time": "2025-04-03T00:23:02.272128Z",
     "start_time": "2025-04-03T00:23:02.260762Z"
    }
   },
   "cell_type": "code",
   "source": [
    "with open('HP_books/03 Harry Potter and the Prisoner of Azkaban.txt', 'r', encoding='utf-8') as f:\n",
    "    raw_text = f.read()\n"
   ],
   "id": "520c45d09a7eefd4",
   "outputs": [],
   "execution_count": 3
  },
  {
   "metadata": {},
   "cell_type": "markdown",
   "source": "## 4. Dividir en lineas y tokenizar",
   "id": "6c214dda1973ee86"
  },
  {
   "metadata": {
    "ExecuteTime": {
     "end_time": "2025-04-03T00:23:18.220821Z",
     "start_time": "2025-04-03T00:23:18.145513Z"
    }
   },
   "cell_type": "code",
   "source": [
    "lines = raw_text.split('\\n')\n",
    "sentences = [simple_preprocess(line) for line in lines if line.strip() != '']\n"
   ],
   "id": "4bc670e74915ceb7",
   "outputs": [],
   "execution_count": 4
  },
  {
   "metadata": {},
   "cell_type": "markdown",
   "source": "## 5. Entrenar modelo Word2Vec",
   "id": "2f4ccf562b88fcf3"
  },
  {
   "metadata": {
    "ExecuteTime": {
     "end_time": "2025-04-03T00:23:40.370567Z",
     "start_time": "2025-04-03T00:23:40.188113Z"
    }
   },
   "cell_type": "code",
   "source": "model = Word2Vec(sentences=sentences, vector_size=100, window=5, min_count=5, workers=4, sg=0)\n",
   "id": "cb3acc32b5c71247",
   "outputs": [],
   "execution_count": 5
  },
  {
   "metadata": {},
   "cell_type": "markdown",
   "source": "## 6. Palabras similares",
   "id": "cb93723a9010e078"
  },
  {
   "metadata": {
    "ExecuteTime": {
     "end_time": "2025-04-03T00:24:00.578933Z",
     "start_time": "2025-04-03T00:24:00.547766Z"
    }
   },
   "cell_type": "code",
   "source": [
    "words_to_test = ['harry', 'hermione', 'ron', 'sirius', 'lupin', 'dumbledore', 'snape']\n",
    "\n",
    "for word in words_to_test:\n",
    "    if word in model.wv:\n",
    "        print(f\"\\nPalabras similares a '{word}':\")\n",
    "        for sim_word, score in model.wv.most_similar(word, topn=5):\n",
    "            print(f\" - {sim_word} ({score:.2f})\")\n",
    "    else:\n",
    "        print(f\"\\nLa palabra '{word}' no está en el vocabulario.\")\n"
   ],
   "id": "5aa3f98021aef011",
   "outputs": [
    {
     "name": "stdout",
     "output_type": "stream",
     "text": [
      "\n",
      "Palabras similares a 'harry':\n",
      " - staring (1.00)\n",
      " - stood (1.00)\n",
      " - ron (1.00)\n",
      " - bed (1.00)\n",
      " - feet (1.00)\n",
      "\n",
      "Palabras similares a 'hermione':\n",
      " - looking (1.00)\n",
      " - quickly (1.00)\n",
      " - she (1.00)\n",
      " - suddenly (1.00)\n",
      " - still (1.00)\n",
      "\n",
      "Palabras similares a 'ron':\n",
      " - harry (1.00)\n",
      " - stared (1.00)\n",
      " - staring (1.00)\n",
      " - sat (1.00)\n",
      " - turned (1.00)\n",
      "\n",
      "Palabras similares a 'sirius':\n",
      " - never (1.00)\n",
      " - thought (1.00)\n",
      " - done (1.00)\n",
      " - peter (1.00)\n",
      " - or (1.00)\n",
      "\n",
      "Palabras similares a 'lupin':\n",
      " - mcgonagall (1.00)\n",
      " - trelawney (1.00)\n",
      " - dumbledore (0.99)\n",
      " - sorry (0.99)\n",
      " - neville (0.99)\n",
      "\n",
      "Palabras similares a 'dumbledore':\n",
      " - neville (1.00)\n",
      " - now (1.00)\n",
      " - too (1.00)\n",
      " - fudge (1.00)\n",
      " - wasn (1.00)\n",
      "\n",
      "Palabras similares a 'snape':\n",
      " - voice (1.00)\n",
      " - suddenly (1.00)\n",
      " - still (1.00)\n",
      " - crookshanks (1.00)\n",
      " - scabbers (1.00)\n"
     ]
    }
   ],
   "execution_count": 6
  },
  {
   "metadata": {},
   "cell_type": "markdown",
   "source": "## 7.  Visualizar en 2D con PCA\n",
   "id": "cc864c6220a9cb68"
  },
  {
   "metadata": {
    "ExecuteTime": {
     "end_time": "2025-04-03T00:24:55.241302Z",
     "start_time": "2025-04-03T00:24:55.007412Z"
    }
   },
   "cell_type": "code",
   "source": [
    "selected_words = ['harry', 'hermione', 'ron', 'sirius', 'lupin', 'dumbledore', 'snape']\n",
    "words_vecs = [model.wv[word] for word in selected_words if word in model.wv]\n",
    "pca = PCA(n_components=2)\n",
    "coords = pca.fit_transform(words_vecs)\n",
    "\n",
    "plt.figure(figsize=(8, 6))\n",
    "for word, (x, y) in zip(selected_words, coords):\n",
    "    plt.scatter(x, y)\n",
    "    plt.text(x + 0.01, y + 0.01, word, fontsize=12)\n",
    "plt.title(\"Visualización 2D de Word2Vec con PCA\")\n",
    "plt.grid(True)\n",
    "plt.show()\n"
   ],
   "id": "3d185f47fc7f8d34",
   "outputs": [
    {
     "data": {
      "text/plain": [
       "<Figure size 800x600 with 1 Axes>"
      ],
      "image/png": "[encoded data removed]"
     },
     "metadata": {},
     "output_type": "display_data"
    }
   ],
   "execution_count": 7
  },
  {
   "metadata": {},
   "cell_type": "markdown",
   "source": [
    "## Conclusiones\n",
    "- Las palabras que aparecen en contextos similares tienden a agruparse (por ejemplo, `harry`, `ron` y `hermione`).\n",
    "- Se observan agrupaciones semánticas relacionadas a roles similares: `sirius` y `lupin`, ambos aliados importantes de Harry.\n",
    "- La visualización PCA reduce dimensiones pero puede perder parte del significado, aunque da una idea general de proximidad semántica.\n",
    "- Se puede extender a más personajes, lugares y objetos mágicos para enriquecer el análisis.\n"
   ],
   "id": "fb1db5da161c7571"
  }
 ],
 "metadata": {
  "kernelspec": {
   "display_name": "Python 3",
   "language": "python",
   "name": "python3"
  },
  "language_info": {
   "codemirror_mode": {
    "name": "ipython",
    "version": 2
   },
   "file_extension": ".py",
   "mimetype": "text/x-python",
   "name": "python",
   "nbconvert_exporter": "python",
   "pygments_lexer": "ipython2",
   "version": "2.7.6"
  }
 },
 "nbformat": 4,
 "nbformat_minor": 5
}
